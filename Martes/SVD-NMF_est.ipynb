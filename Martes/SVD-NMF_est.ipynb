{
 "cells": [
  {
   "cell_type": "markdown",
   "metadata": {
    "lang": "es"
   },
   "source": [
    "# Modelado de tópicos con NMF y SVD"
   ]
  },
  {
   "cell_type": "markdown",
   "metadata": {
    "lang": "es"
   },
   "source": [
    "## El problema"
   ]
  },
  {
   "cell_type": "markdown",
   "metadata": {
    "lang": "es"
   },
   "source": [
    "El modelado de tópicos es una forma divertida de comenzar nuestro estudio del NLP. Usaremos dos **técnicas populares de descomposición de matrices**.\n",
    "\n",
    "Empezamos con una **matriz término-documento**:"
   ]
  },
  {
   "cell_type": "markdown",
   "metadata": {},
   "source": [
    "|              | Don Quijote | Cien Años de Soledad | La Casa de los Espíritus | Pedro Páramo | La Sombra del Viento |\n",
    "|--------------|--------------|----------------------|--------------------------|--------------|----------------------|\n",
    "| QUIJOTE      | 150          | 0                    | 4                        | 0            | 1                    |\n",
    "| SANCHO       | 120          | 0                    | 0                        | 0            | 0                    |\n",
    "| ROCINANTE    | 80           | 0                    | 0                        | 0            | 0                    |\n",
    "| ALONSO       | 50           | 0                    | 0                        | 0            | 0                    |\n",
    "| ÚRSULA       | 0            | 200                  | 0                        | 2            | 0                    |\n",
    "| AURELIANO    | 0            | 180                  | 0                        | 2            | 0                    |\n",
    "| REMEDIOS     | 0            | 150                  | 0                        | 0            | 0                    |\n",
    "| CLARA        | 0            | 0                    | 170                      | 0            | 0                    |\n",
    "| ESTEBAN      | 0            | 0                    | 150                      | 0            | 0                    |\n",
    "| PEDRO        | 2            | 0                    | 0                        | 160          | 0                    |\n",
    "| JUAN         | 10            | 5                    | 0                        | 140          | 0                    |\n",
    "| DANIEL       | 0            | 0                    | 0                        | 0            | 180                  |\n",
    "| JULIÁN       | 0            | 3                    | 0                        | 0            | 150                  |\n",
    "| BEA          | 0            | 0                    | 0                        | 0            | 120                  |"
   ]
  },
  {
   "cell_type": "markdown",
   "metadata": {},
   "source": [
    "Podemos descomponer esto en una matriz alta y delgada por una matriz ancha y corta (posiblemente con una matriz diagonal en el medio).\n",
    "\n",
    "Tenga en cuenta que esta representación no tiene en cuenta el orden de las palabras ni la estructura de las oraciones. Es un ejemplo de un enfoque de **bag of words**."
   ]
  },
  {
   "cell_type": "markdown",
   "metadata": {
    "lang": "es"
   },
   "source": [
    "### Motivación"
   ]
  },
  {
   "cell_type": "markdown",
   "metadata": {
    "lang": "es"
   },
   "source": [
    "Considere el caso más extremo: reconstruir la matriz usando un producto externo de dos vectores. Claramente, en la mayoría de los casos no podremos reconstruir la matriz exactamente. Pero si tuviéramos un vector con la frecuencia relativa de cada palabra del vocabulario del conteo total de palabras, y uno con el número promedio de palabras por documento, entonces ese producto externo sería lo más cercano que podemos obtener.\n",
    "\n",
    "Ahora considere reducir esas matrices a dos columnas y dos filas. La descomposición óptima ahora sería agrupar los documentos en dos grupos, cada uno de los cuales tiene una distribución de palabras lo más diferente posible entre sí, pero lo más similar posible entre los documentos del grupo. Llamaremos a esos dos grupos \"tópicos\". Y agruparíamos las palabras en dos grupos, en función de las que aparecen con más frecuencia en cada uno de los temas."
   ]
  },
  {
   "cell_type": "markdown",
   "metadata": {
    "lang": "es"
   },
   "source": [
    "## Empezando"
   ]
  },
  {
   "cell_type": "markdown",
   "metadata": {
    "lang": "es"
   },
   "source": [
    "Tomaremos un conjunto de datos de documentos en varias categorías diferentes y encontraremos tópicos (que consisten en grupos de palabras) para ellos. Conocer las categorías reales nos ayuda a evaluar si los temas que encontramos tienen sentido.\n",
    "\n",
    "Probaremos esto con dos factorizaciones de matrices diferentes: **Descomposición de valores singulares (SVD)** y **Factorización de matrices no negativas (NMF)**"
   ]
  },
  {
   "cell_type": "code",
   "execution_count": 1,
   "metadata": {
    "ExecuteTime": {
     "end_time": "2022-01-31T13:31:53.351810Z",
     "start_time": "2022-01-31T13:31:52.635156Z"
    }
   },
   "outputs": [],
   "source": [
    "import numpy as np\n",
    "from sklearn.datasets import fetch_20newsgroups\n",
    "import pandas as pd\n",
    "from sklearn import decomposition\n",
    "from scipy import linalg\n",
    "import matplotlib.pyplot as plt"
   ]
  },
  {
   "cell_type": "code",
   "execution_count": 2,
   "metadata": {
    "ExecuteTime": {
     "end_time": "2022-01-31T13:31:53.355063Z",
     "start_time": "2022-01-31T13:31:53.352774Z"
    }
   },
   "outputs": [],
   "source": [
    "np.set_printoptions(suppress=True)"
   ]
  },
  {
   "cell_type": "markdown",
   "metadata": {
    "lang": "es"
   },
   "source": [
    "### Recursos adicionales"
   ]
  },
  {
   "cell_type": "markdown",
   "metadata": {
    "lang": "es"
   },
   "source": [
    "- [Fuente de datos](https://scikit-learn.org/stable/modules/generated/sklearn.datasets.fetch_20newsgroups.html): los grupos de noticias son grupos de discusión en Usenet, que fueron populares en los años 80 y 90 antes de que la web realmente despegara. Este conjunto de datos incluye 18 000 publicaciones de grupos de noticias con 20 temas.\n",
    "- [Capítulo del libro de Chris Manning](https://nlp.stanford.edu/IR-book/pdf/18lsi.pdf) sobre factorización de matrices y LSI\n",
    "- Scikit learn [detalles de SVD y LSI truncados](http://scikit-learn.org/stable/modules/decomposition.html#lsa)\n",
    "\n",
    "### Otros tutoriales\n",
    "- [Scikit-Learn: Clasificación fuera del núcleo de documentos de texto](http://scikit-learn.org/stable/auto_examples/applications/plot_out_of_core_classification.html): utiliza el conjunto de datos [Reuters-21578](https://archive.ics.uci.edu/ml/datasets/reuters-21578+text+categorization+collection) (artículos de Reuters etiquetados con ~100 categorías ), HashingVectorizer\n",
    "- [Análisis de texto con modelos temáticos para humanidades y ciencias sociales](https://github.com/DARIAH-DE/tatom): utiliza [conjunto de datos de literatura británica y francesa](https://github.com/DARIAH-DE/tatom/tree/develop/data) de Jane Austen, Charlotte Bronte, Victor Hugo y más"
   ]
  },
  {
   "cell_type": "markdown",
   "metadata": {
    "lang": "es"
   },
   "source": [
    "## Observando nuestros datos"
   ]
  },
  {
   "cell_type": "markdown",
   "metadata": {
    "lang": "es"
   },
   "source": [
    "Scikit Learn viene con una serie de conjuntos de datos incorporados, así como utilidades de carga para cargar varios conjuntos de datos externos estándar. Este es un [gran recurso](http://scikit-learn.org/stable/datasets/), y los conjuntos de datos incluyen precios de viviendas en Boston, imágenes de rostros, parches de bosque, diabetes, cáncer de mama y más. Usaremos el conjunto de datos de los grupos de noticias.\n",
    "\n",
    "Los grupos de noticias son grupos de discusión en Usenet, que fueron populares en los años 80 y 90 antes de que la web realmente despegara. Este conjunto de datos incluye 18 000 publicaciones de grupos de noticias con 20 temas."
   ]
  },
  {
   "cell_type": "code",
   "execution_count": 3,
   "metadata": {
    "ExecuteTime": {
     "end_time": "2022-01-31T13:31:54.675428Z",
     "start_time": "2022-01-31T13:31:53.355803Z"
    }
   },
   "outputs": [],
   "source": [
    "categories = ['alt.atheism', 'talk.religion.misc', 'comp.graphics', 'sci.space']\n",
    "remove = ('headers', 'footers', 'quotes')\n",
    "newsgroups_train = fetch_20newsgroups(subset='train', categories=categories, remove=remove)\n",
    "newsgroups_test = fetch_20newsgroups(subset='test', categories=categories, remove=remove)"
   ]
  },
  {
   "cell_type": "code",
   "execution_count": 4,
   "metadata": {
    "ExecuteTime": {
     "end_time": "2022-01-31T13:31:54.680037Z",
     "start_time": "2022-01-31T13:31:54.676615Z"
    }
   },
   "outputs": [
    {
     "data": {
      "text/plain": [
       "((2034,), (2034,))"
      ]
     },
     "execution_count": 4,
     "metadata": {},
     "output_type": "execute_result"
    }
   ],
   "source": [
    "newsgroups_train.filenames.shape, newsgroups_train.target.shape"
   ]
  },
  {
   "cell_type": "markdown",
   "metadata": {},
   "source": [
    "Echemos un vistazo a algunos de los datos. ¿Puedes adivinar en qué categoría están estos mensajes?"
   ]
  },
  {
   "cell_type": "code",
   "execution_count": 5,
   "metadata": {
    "ExecuteTime": {
     "end_time": "2022-01-31T13:31:54.689028Z",
     "start_time": "2022-01-31T13:31:54.680704Z"
    }
   },
   "outputs": [
    {
     "name": "stdout",
     "output_type": "stream",
     "text": [
      "Hi,\n",
      "\n",
      "I've noticed that if you only save a model (with all your mapping planes\n",
      "positioned carefully) to a .3DS file that when you reload it after restarting\n",
      "3DS, they are given a default position and orientation.  But if you save\n",
      "to a .PRJ file their positions/orientation are preserved.  Does anyone\n",
      "know why this information is not stored in the .3DS file?  Nothing is\n",
      "explicitly said in the manual about saving texture rules in the .PRJ file. \n",
      "I'd like to be able to read the texture rule information, does anyone have \n",
      "the format for the .PRJ file?\n",
      "\n",
      "Is the .CEL file format available from somewhere?\n",
      "\n",
      "Rych\n",
      "----------------------------\n",
      "\n",
      "Seems to be, barring evidence to the contrary, that Koresh was simply\n",
      "another deranged fanatic who thought it neccessary to take a whole bunch of\n",
      "folks with him, children and all, to satisfy his delusional mania. Jim\n",
      "Jones, circa 1993.\n",
      "\n",
      "\n",
      "Nope - fruitcakes like Koresh have been demonstrating such evil corruption\n",
      "for centuries.\n",
      "----------------------------\n",
      " >In article <1993Apr19.020359.26996@sq.sq.com>, msb@sq.sq.com (Mark Brader) \n",
      "\n",
      "MB>                                                             So the\n",
      "MB> 1970 figure seems unlikely to actually be anything but a perijove.\n",
      "\n",
      "JG>Sorry, _perijoves_...I'm not used to talking this language.\n",
      "\n",
      "Couldn't we just say periapsis or apoapsis?\n",
      "\n",
      " \n"
     ]
    }
   ],
   "source": [
    "print(\"\\n----------------------------\".join(newsgroups_train.data[:3]))"
   ]
  },
  {
   "cell_type": "code",
   "execution_count": 6,
   "metadata": {
    "ExecuteTime": {
     "end_time": "2022-01-31T13:31:54.693418Z",
     "start_time": "2022-01-31T13:31:54.690309Z"
    }
   },
   "outputs": [
    {
     "data": {
      "text/plain": [
       "array(['comp.graphics', 'talk.religion.misc', 'sci.space'], dtype='<U18')"
      ]
     },
     "execution_count": 6,
     "metadata": {},
     "output_type": "execute_result"
    }
   ],
   "source": [
    "np.array(newsgroups_train.target_names)[newsgroups_train.target[:3]]"
   ]
  },
  {
   "cell_type": "markdown",
   "metadata": {
    "lang": "es"
   },
   "source": [
    "El target (etiqueta) es el índice entero de la categoría."
   ]
  },
  {
   "cell_type": "code",
   "execution_count": 7,
   "metadata": {
    "ExecuteTime": {
     "end_time": "2022-01-31T13:31:54.697381Z",
     "start_time": "2022-01-31T13:31:54.694516Z"
    }
   },
   "outputs": [
    {
     "data": {
      "text/plain": [
       "array([1, 3, 2, 0, 2, 0, 2, 1, 2, 1])"
      ]
     },
     "execution_count": 7,
     "metadata": {},
     "output_type": "execute_result"
    }
   ],
   "source": [
    "newsgroups_train.target[:10]"
   ]
  },
  {
   "cell_type": "code",
   "execution_count": 8,
   "metadata": {
    "ExecuteTime": {
     "end_time": "2022-01-31T13:31:54.748555Z",
     "start_time": "2022-01-31T13:31:54.698579Z"
    }
   },
   "outputs": [
    {
     "data": {
      "text/html": [
       "<div>\n",
       "<style scoped>\n",
       "    .dataframe tbody tr th:only-of-type {\n",
       "        vertical-align: middle;\n",
       "    }\n",
       "\n",
       "    .dataframe tbody tr th {\n",
       "        vertical-align: top;\n",
       "    }\n",
       "\n",
       "    .dataframe thead th {\n",
       "        text-align: right;\n",
       "    }\n",
       "</style>\n",
       "<table border=\"1\" class=\"dataframe\">\n",
       "  <thead>\n",
       "    <tr style=\"text-align: right;\">\n",
       "      <th></th>\n",
       "      <th>text</th>\n",
       "      <th>label</th>\n",
       "    </tr>\n",
       "  </thead>\n",
       "  <tbody>\n",
       "    <tr>\n",
       "      <th>0</th>\n",
       "      <td>Hi,\\n\\nI've noticed that if you only save a mo...</td>\n",
       "      <td>comp.graphics</td>\n",
       "    </tr>\n",
       "    <tr>\n",
       "      <th>1</th>\n",
       "      <td>\\n\\nSeems to be, barring evidence to the contr...</td>\n",
       "      <td>talk.religion.misc</td>\n",
       "    </tr>\n",
       "    <tr>\n",
       "      <th>2</th>\n",
       "      <td>\\n &gt;In article &lt;1993Apr19.020359.26996@sq.sq.c...</td>\n",
       "      <td>sci.space</td>\n",
       "    </tr>\n",
       "    <tr>\n",
       "      <th>3</th>\n",
       "      <td>I have a request for those who would like to s...</td>\n",
       "      <td>alt.atheism</td>\n",
       "    </tr>\n",
       "    <tr>\n",
       "      <th>4</th>\n",
       "      <td>AW&amp;ST  had a brief blurb on a Manned Lunar Exp...</td>\n",
       "      <td>sci.space</td>\n",
       "    </tr>\n",
       "  </tbody>\n",
       "</table>\n",
       "</div>"
      ],
      "text/plain": [
       "                                                text               label\n",
       "0  Hi,\\n\\nI've noticed that if you only save a mo...       comp.graphics\n",
       "1  \\n\\nSeems to be, barring evidence to the contr...  talk.religion.misc\n",
       "2  \\n >In article <1993Apr19.020359.26996@sq.sq.c...           sci.space\n",
       "3  I have a request for those who would like to s...         alt.atheism\n",
       "4  AW&ST  had a brief blurb on a Manned Lunar Exp...           sci.space"
      ]
     },
     "execution_count": 8,
     "metadata": {},
     "output_type": "execute_result"
    }
   ],
   "source": [
    "pd.DataFrame(dict(text = newsgroups_train.data,\n",
    "                 label = np.array(newsgroups_train.target_names)[newsgroups_train.target])\n",
    "            ).head(5)"
   ]
  },
  {
   "cell_type": "code",
   "execution_count": 9,
   "metadata": {
    "ExecuteTime": {
     "end_time": "2022-01-31T13:31:54.750993Z",
     "start_time": "2022-01-31T13:31:54.749347Z"
    }
   },
   "outputs": [],
   "source": [
    "num_topics, num_top_words = 6, 8"
   ]
  },
  {
   "cell_type": "markdown",
   "metadata": {
    "lang": "en"
   },
   "source": [
    "## Stop words, stemming, lemmatization"
   ]
  },
  {
   "cell_type": "markdown",
   "metadata": {
    "lang": "en"
   },
   "source": [
    "### Stop words"
   ]
  },
  {
   "cell_type": "markdown",
   "metadata": {},
   "source": [
    "De [Intro to Information Retrieval](https://nlp.stanford.edu/IR-book/html/htmledition/dropping-common-terms-stop-words-1.html):\n",
    "\n",
    "*Algunas palabras extremadamente comunes que parecerían tener poco valor para ayudar a seleccionar documentos que coincidan con las necesidades de un usuario se excluyen por completo del vocabulario. Estas palabras se llaman stop words.*\n",
    "\n",
    "*La tendencia general en los sistemas de IR a lo largo del tiempo ha sido desde el uso estándar de listas de stop bastante grandes (200-300 términos) hasta listas de stop muy pequeñas (7-12 términos) hasta ninguna lista de stop en absoluto. Los motores de búsqueda web generalmente no utilizan listas de stop.*"
   ]
  },
  {
   "cell_type": "markdown",
   "metadata": {},
   "source": [
    "#### NLTK"
   ]
  },
  {
   "cell_type": "code",
   "execution_count": 10,
   "metadata": {
    "ExecuteTime": {
     "end_time": "2022-01-31T13:31:54.754646Z",
     "start_time": "2022-01-31T13:31:54.752296Z"
    }
   },
   "outputs": [
    {
     "data": {
      "text/plain": [
       "['a',\n",
       " 'about',\n",
       " 'above',\n",
       " 'across',\n",
       " 'after',\n",
       " 'afterwards',\n",
       " 'again',\n",
       " 'against',\n",
       " 'all',\n",
       " 'almost',\n",
       " 'alone',\n",
       " 'along',\n",
       " 'already',\n",
       " 'also',\n",
       " 'although',\n",
       " 'always',\n",
       " 'am',\n",
       " 'among',\n",
       " 'amongst',\n",
       " 'amoungst']"
      ]
     },
     "execution_count": 10,
     "metadata": {},
     "output_type": "execute_result"
    }
   ],
   "source": [
    "from sklearn.feature_extraction.text import ENGLISH_STOP_WORDS\n",
    "\n",
    "sorted(list(ENGLISH_STOP_WORDS))[:20]"
   ]
  },
  {
   "cell_type": "markdown",
   "metadata": {
    "lang": "es"
   },
   "source": [
    "No existe una única lista universal de stop words."
   ]
  },
  {
   "cell_type": "markdown",
   "metadata": {},
   "source": [
    "### Stemming and Lemmatization"
   ]
  },
  {
   "cell_type": "markdown",
   "metadata": {},
   "source": [
    "Del [Information Retrieval](https://nlp.stanford.edu/IR-book/html/htmledition/stemming-and-lemmatization-1.html) textbook:\n",
    "\n",
    "¿Las siguientes palabras significan lo mismo?\n",
    "\n",
    "*organize, organizes, and organizing*\n",
    "\n",
    "*democracy, democratic, and democratization*"
   ]
  },
  {
   "cell_type": "markdown",
   "metadata": {
    "lang": "es"
   },
   "source": [
    "Tanto el Stemming como la Lemmatization generan la forma raíz de las palabras.\n",
    "\n",
    "La lematización utiliza las reglas sobre un idioma. Los tokens resultantes son todas palabras reales.\n",
    "\n",
    "\"Stemming is the poor-man’s lemmatization.\" (Noah Smith, 2011) Stemming es una heurística ingenua que corta los extremos de las palabras. Los tokens resultantes pueden no ser palabras reales. La derivación es más rápida."
   ]
  },
  {
   "cell_type": "code",
   "execution_count": 11,
   "metadata": {
    "ExecuteTime": {
     "end_time": "2022-01-31T13:31:55.051300Z",
     "start_time": "2022-01-31T13:31:54.755491Z"
    }
   },
   "outputs": [
    {
     "name": "stderr",
     "output_type": "stream",
     "text": [
      "[nltk_data] Downloading package wordnet to /home/santi/nltk_data...\n",
      "[nltk_data]   Package wordnet is already up-to-date!\n",
      "[nltk_data] Downloading package omw-1.4 to /home/santi/nltk_data...\n",
      "[nltk_data]   Package omw-1.4 is already up-to-date!\n"
     ]
    },
    {
     "data": {
      "text/plain": [
       "True"
      ]
     },
     "execution_count": 11,
     "metadata": {},
     "output_type": "execute_result"
    }
   ],
   "source": [
    "import nltk\n",
    "nltk.download('wordnet')\n",
    "nltk.download('omw-1.4')"
   ]
  },
  {
   "cell_type": "code",
   "execution_count": 12,
   "metadata": {
    "ExecuteTime": {
     "end_time": "2022-01-31T13:31:55.053966Z",
     "start_time": "2022-01-31T13:31:55.052300Z"
    }
   },
   "outputs": [],
   "source": [
    "from nltk import stem"
   ]
  },
  {
   "cell_type": "code",
   "execution_count": 13,
   "metadata": {
    "ExecuteTime": {
     "end_time": "2022-01-31T13:31:55.062933Z",
     "start_time": "2022-01-31T13:31:55.054890Z"
    }
   },
   "outputs": [],
   "source": [
    "wnl = stem.WordNetLemmatizer()\n",
    "porter = stem.porter.PorterStemmer()"
   ]
  },
  {
   "cell_type": "code",
   "execution_count": 14,
   "metadata": {
    "ExecuteTime": {
     "end_time": "2022-01-31T13:31:55.067072Z",
     "start_time": "2022-01-31T13:31:55.064519Z"
    }
   },
   "outputs": [],
   "source": [
    "word_list = ['feet', 'foot', 'foots', 'footing']"
   ]
  },
  {
   "cell_type": "code",
   "execution_count": 15,
   "metadata": {
    "ExecuteTime": {
     "end_time": "2022-01-31T13:31:55.911201Z",
     "start_time": "2022-01-31T13:31:55.069348Z"
    }
   },
   "outputs": [
    {
     "data": {
      "text/plain": [
       "['foot', 'foot', 'foot', 'footing']"
      ]
     },
     "execution_count": 15,
     "metadata": {},
     "output_type": "execute_result"
    }
   ],
   "source": [
    "[wnl.lemmatize(word) for word in word_list]"
   ]
  },
  {
   "cell_type": "code",
   "execution_count": 16,
   "metadata": {
    "ExecuteTime": {
     "end_time": "2022-01-31T13:31:55.915422Z",
     "start_time": "2022-01-31T13:31:55.912411Z"
    }
   },
   "outputs": [
    {
     "data": {
      "text/plain": [
       "['feet', 'foot', 'foot', 'foot']"
      ]
     },
     "execution_count": 16,
     "metadata": {},
     "output_type": "execute_result"
    }
   ],
   "source": [
    "[porter.stem(word) for word in word_list]"
   ]
  },
  {
   "cell_type": "markdown",
   "metadata": {
    "lang": "es"
   },
   "source": [
    "**Ejercicio**: Ahora, intente  lematizar y usar stemming en las siguientes colecciones de palabras:"
   ]
  },
  {
   "cell_type": "markdown",
   "metadata": {},
   "source": [
    "- fly, flies, flying\n",
    "- organize, organizes, organizing\n",
    "- universe, university"
   ]
  },
  {
   "cell_type": "code",
   "execution_count": null,
   "metadata": {},
   "outputs": [],
   "source": []
  },
  {
   "cell_type": "markdown",
   "metadata": {
    "lang": "es"
   },
   "source": [
    "Stemming y lemmatization dependen del lenguaje. Los idiomas con morfologías más complejas pueden mostrar mayores beneficios. Por ejemplo, el sánscrito tiene una gran [gran cantidad de formas verbales](https://en.wikipedia.org/wiki/Sanskrit_verbs)."
   ]
  },
  {
   "cell_type": "markdown",
   "metadata": {},
   "source": [
    "### Spacy"
   ]
  },
  {
   "cell_type": "markdown",
   "metadata": {
    "lang": "es"
   },
   "source": [
    "Stemming y lemmatization dependen de la implementación."
   ]
  },
  {
   "cell_type": "markdown",
   "metadata": {
    "lang": "es"
   },
   "source": [
    "Spacy es una librería de NLP muy moderna y rápida. Spacy es dogmático, ya que normalmente ofrece una forma altamente optimizada de hacer algo (mientras que nltk ofrece una gran variedad de formas, aunque generalmente no están tan optimizadas).\n",
    "\n",
    "Hay que instalarlo.\n",
    "\n",
    "si usas conda:\n",
    "```\n",
    "conda install -c conda-forge spacy\n",
    "```\n",
    "si usas pip:\n",
    "```\n",
    "pip install -U spacy\n",
    "```\n",
    "\n",
    "A continuación, deberá descargar el modelo en inglés:\n",
    "```\n",
    "spacy download en_core_web_sm\n",
    "```"
   ]
  },
  {
   "cell_type": "code",
   "execution_count": 17,
   "metadata": {
    "ExecuteTime": {
     "end_time": "2022-01-31T13:31:55.923864Z",
     "start_time": "2022-01-31T13:31:55.916844Z"
    }
   },
   "outputs": [],
   "source": [
    "#!spacy download en_core_web_sm"
   ]
  },
  {
   "cell_type": "code",
   "execution_count": 18,
   "metadata": {
    "ExecuteTime": {
     "end_time": "2022-01-31T13:31:56.581935Z",
     "start_time": "2022-01-31T13:31:55.925228Z"
    }
   },
   "outputs": [],
   "source": [
    "import spacy\n",
    "nlp = spacy.load('en_core_web_sm')"
   ]
  },
  {
   "cell_type": "code",
   "execution_count": 19,
   "metadata": {
    "ExecuteTime": {
     "end_time": "2022-01-31T13:31:56.590117Z",
     "start_time": "2022-01-31T13:31:56.583087Z"
    }
   },
   "outputs": [
    {
     "name": "stdout",
     "output_type": "stream",
     "text": [
      "Apples and oranges are similar. Boots and hippos aren't.\n"
     ]
    }
   ],
   "source": [
    "doc = nlp(u\"Apples and oranges are similar. Boots and hippos aren't.\")\n",
    "\n",
    "print(doc)"
   ]
  },
  {
   "cell_type": "code",
   "execution_count": 20,
   "metadata": {
    "ExecuteTime": {
     "end_time": "2022-01-31T13:31:56.606693Z",
     "start_time": "2022-01-31T13:31:56.591125Z"
    }
   },
   "outputs": [
    {
     "data": {
      "text/plain": [
       "['foot', 'foot', 'foot', 'foot']"
      ]
     },
     "execution_count": 20,
     "metadata": {},
     "output_type": "execute_result"
    }
   ],
   "source": [
    "[token.lemma_ for word in word_list for token in nlp(word) ]"
   ]
  },
  {
   "cell_type": "markdown",
   "metadata": {
    "lang": "es"
   },
   "source": [
    "Spacy no ofrece un stemmer (ya que la lematización se considera mejor, ¡este es un ejemplo de ser dogmático!)"
   ]
  },
  {
   "cell_type": "markdown",
   "metadata": {
    "lang": "es"
   },
   "source": [
    "Las stop words varían de una librería a otra"
   ]
  },
  {
   "cell_type": "code",
   "execution_count": 21,
   "metadata": {
    "ExecuteTime": {
     "end_time": "2022-01-31T13:31:56.610555Z",
     "start_time": "2022-01-31T13:31:56.607927Z"
    }
   },
   "outputs": [
    {
     "data": {
      "text/plain": [
       "[\"'d\",\n",
       " \"'ll\",\n",
       " \"'m\",\n",
       " \"'re\",\n",
       " \"'s\",\n",
       " \"'ve\",\n",
       " 'a',\n",
       " 'about',\n",
       " 'above',\n",
       " 'across',\n",
       " 'after',\n",
       " 'afterwards',\n",
       " 'again',\n",
       " 'against',\n",
       " 'all',\n",
       " 'almost',\n",
       " 'alone',\n",
       " 'along',\n",
       " 'already',\n",
       " 'also']"
      ]
     },
     "execution_count": 21,
     "metadata": {},
     "output_type": "execute_result"
    }
   ],
   "source": [
    "sorted(list(nlp.Defaults.stop_words))[:20]"
   ]
  },
  {
   "cell_type": "markdown",
   "metadata": {
    "lang": "en",
    "solution2": "hidden",
    "solution2_first": true
   },
   "source": [
    "**Ejercicio: ¿Qué stop words aparecen en spacy pero no en sklearn?**"
   ]
  },
  {
   "cell_type": "code",
   "execution_count": null,
   "metadata": {
    "ExecuteTime": {
     "end_time": "2022-01-29T22:49:21.242316Z",
     "start_time": "2022-01-29T22:49:21.237931Z"
    },
    "solution2": "hidden"
   },
   "outputs": [],
   "source": []
  },
  {
   "cell_type": "markdown",
   "metadata": {
    "lang": "en",
    "solution2": "hidden",
    "solution2_first": true
   },
   "source": [
    "**Ejercicio: ¿Y qué stop words están en sklearn pero no spacy?**"
   ]
  },
  {
   "cell_type": "code",
   "execution_count": null,
   "metadata": {
    "ExecuteTime": {
     "end_time": "2022-01-29T22:50:07.711770Z",
     "start_time": "2022-01-29T22:50:07.707644Z"
    },
    "solution2": "hidden"
   },
   "outputs": [],
   "source": []
  },
  {
   "cell_type": "markdown",
   "metadata": {
    "lang": "es"
   },
   "source": [
    "### ¿Cuándo usarlos?"
   ]
  },
  {
   "cell_type": "markdown",
   "metadata": {},
   "source": [
    "<img src=\"images/skomoroch.png\" alt=\"\" style=\"width: 65%\"/>"
   ]
  },
  {
   "cell_type": "markdown",
   "metadata": {
    "lang": "es"
   },
   "source": [
    "Durante mucho tiempo se consideraron técnicas estándar, pero a menudo pueden **perjudicar** su rendimiento **si se utiliza el aprendizaje profundo**. El stemming, la lematización y la eliminación de stop words implican desechar información.\n",
    "\n",
    "Sin embargo, aún pueden ser útiles cuando se trabaja con modelos más simples."
   ]
  },
  {
   "cell_type": "markdown",
   "metadata": {
    "lang": "es"
   },
   "source": [
    "### Otro enfoque: sub-word units o Tokenization"
   ]
  },
  {
   "cell_type": "markdown",
   "metadata": {},
   "source": [
    "[SentencePiece](https://github.com/google/sentencepiece) de Google, Byte Pair Encoding (BPE)"
   ]
  },
  {
   "cell_type": "markdown",
   "metadata": {
    "lang": "es"
   },
   "source": [
    "## Procesamiento de datos"
   ]
  },
  {
   "cell_type": "markdown",
   "metadata": {
    "lang": "es"
   },
   "source": [
    "A continuación, scikit learn tiene un método que extraerá todos los recuentos de palabras por nosotros."
   ]
  },
  {
   "cell_type": "code",
   "execution_count": 24,
   "metadata": {
    "ExecuteTime": {
     "end_time": "2022-01-31T13:31:57.711852Z",
     "start_time": "2022-01-31T13:31:57.709366Z"
    }
   },
   "outputs": [],
   "source": [
    "from sklearn.feature_extraction.text import CountVectorizer, TfidfVectorizer"
   ]
  },
  {
   "cell_type": "code",
   "execution_count": 25,
   "metadata": {
    "ExecuteTime": {
     "end_time": "2022-01-31T13:31:57.850419Z",
     "start_time": "2022-01-31T13:31:57.847976Z"
    }
   },
   "outputs": [],
   "source": [
    "vectorizer = CountVectorizer(stop_words='english')"
   ]
  },
  {
   "cell_type": "code",
   "execution_count": 26,
   "metadata": {
    "ExecuteTime": {
     "end_time": "2022-01-31T13:31:58.198184Z",
     "start_time": "2022-01-31T13:31:57.977853Z"
    }
   },
   "outputs": [
    {
     "data": {
      "text/plain": [
       "(2034, 26576)"
      ]
     },
     "execution_count": 26,
     "metadata": {},
     "output_type": "execute_result"
    }
   ],
   "source": [
    "# Ajustamos el vectorizador a los datos de entrenamiento y transformamos los datos en un formato denso\n",
    "vectors = vectorizer.fit_transform(newsgroups_train.data).todense() # (documentos, vocabulario)\n",
    "\n",
    "# El método .todense() convierte la matriz dispersa resultante en una matriz densa para facilitar el trabajo posterior\n",
    "\n",
    "vectors.shape  "
   ]
  },
  {
   "cell_type": "code",
   "execution_count": 27,
   "metadata": {
    "ExecuteTime": {
     "end_time": "2022-01-31T13:31:58.201674Z",
     "start_time": "2022-01-31T13:31:58.199386Z"
    },
    "scrolled": true
   },
   "outputs": [
    {
     "name": "stdout",
     "output_type": "stream",
     "text": [
      "2034 (2034, 26576)\n"
     ]
    }
   ],
   "source": [
    "print(len(newsgroups_train.data), vectors.shape)"
   ]
  },
  {
   "cell_type": "code",
   "execution_count": 28,
   "metadata": {
    "ExecuteTime": {
     "end_time": "2022-01-31T13:31:58.366247Z",
     "start_time": "2022-01-31T13:31:58.352246Z"
    }
   },
   "outputs": [],
   "source": [
    "vocab = np.array(vectorizer.get_feature_names_out())"
   ]
  },
  {
   "cell_type": "code",
   "execution_count": 29,
   "metadata": {
    "ExecuteTime": {
     "end_time": "2022-01-31T13:31:58.562973Z",
     "start_time": "2022-01-31T13:31:58.559548Z"
    }
   },
   "outputs": [
    {
     "data": {
      "text/plain": [
       "(26576,)"
      ]
     },
     "execution_count": 29,
     "metadata": {},
     "output_type": "execute_result"
    }
   ],
   "source": [
    "vocab.shape"
   ]
  },
  {
   "cell_type": "code",
   "execution_count": 30,
   "metadata": {
    "ExecuteTime": {
     "end_time": "2022-01-31T13:31:58.716573Z",
     "start_time": "2022-01-31T13:31:58.712795Z"
    }
   },
   "outputs": [
    {
     "data": {
      "text/plain": [
       "array(['cosmonauts', 'cosmos', 'cosponsored', 'cost', 'costa', 'costar',\n",
       "       'costing', 'costly', 'costruction', 'costs', 'cosy', 'cote',\n",
       "       'couched', 'couldn', 'council', 'councils', 'counsel',\n",
       "       'counselees', 'counselor', 'count'], dtype=object)"
      ]
     },
     "execution_count": 30,
     "metadata": {},
     "output_type": "execute_result"
    }
   ],
   "source": [
    "vocab[7000:7020]"
   ]
  },
  {
   "cell_type": "markdown",
   "metadata": {},
   "source": [
    "## Singular Value Decomposition (SVD)"
   ]
  },
  {
   "cell_type": "markdown",
   "metadata": {},
   "source": [
    "\"SVD is not nearly as famous as it should be.\" - Gilbert Strang"
   ]
  },
  {
   "cell_type": "markdown",
   "metadata": {
    "lang": "es"
   },
   "source": [
    "Claramente esperaríamos que las palabras que aparecen con más frecuencia en un tópico aparezcan con menos frecuencia en el otro; de lo contrario, esa palabra no sería una buena elección para separar los dos tópicos. Por lo tanto, esperamos que los tópicos sean **ortogonales**.\n",
    "\n",
    "El algoritmo SVD factoriza una matriz en una matriz con **columnas ortogonales** y una con **filas ortogonales** (junto con una matriz diagonal, que contiene la <**>importancia relativa<**> de cada factor)."
   ]
  },
  {
   "cell_type": "markdown",
   "metadata": {},
   "source": [
    "<img src=\"images/svd_fb.png\" alt=\"\" style=\"width: 60%\"/>\n",
    "\n",
    "source: [Facebook Research: Fast Randomized SVD](https://research.facebook.com/blog/2014/09/fast-randomized-svd/)"
   ]
  },
  {
   "cell_type": "markdown",
   "metadata": {
    "lang": "es"
   },
   "source": [
    "SVD es una **descomposición exacta**, ya que las matrices que crea son lo suficientemente grandes como para cubrir completamente la matriz original. SVD es extremadamente utilizado en álgebra lineal, y específicamente en ciencia de datos, incluyendo:\n",
    "\n",
    "- análisis semántico\n",
    "- recomendaciones/filtrado colaborativo ([entrada ganadora del premio Netflix](https://datajobs.com/data-science-repo/Recommender-Systems-%5BNetflix%5D.pdf))\n",
    "- calcular la pseudoinversa de Moore-Penrose\n",
    "- compresión de datos\n",
    "- análisis de componentes principales"
   ]
  },
  {
   "cell_type": "markdown",
   "metadata": {
    "lang": "es"
   },
   "source": [
    "El análisis semántico latente (LSA) utiliza SVD. A veces escuchará que el modelado de tópicos se conoce como LSA."
   ]
  },
  {
   "cell_type": "code",
   "execution_count": 31,
   "metadata": {
    "ExecuteTime": {
     "end_time": "2022-01-31T13:32:39.340260Z",
     "start_time": "2022-01-31T13:31:59.273656Z"
    }
   },
   "outputs": [
    {
     "name": "stdout",
     "output_type": "stream",
     "text": [
      "CPU times: user 5min 12s, sys: 2.52 s, total: 5min 14s\n",
      "Wall time: 1min 19s\n"
     ]
    }
   ],
   "source": [
    "%time U, s, Vh = linalg.svd(vectors, full_matrices=False)"
   ]
  },
  {
   "cell_type": "code",
   "execution_count": 32,
   "metadata": {
    "ExecuteTime": {
     "end_time": "2022-01-31T13:32:39.343294Z",
     "start_time": "2022-01-31T13:32:39.341310Z"
    }
   },
   "outputs": [
    {
     "name": "stdout",
     "output_type": "stream",
     "text": [
      "(2034, 2034) (2034,) (2034, 26576)\n"
     ]
    }
   ],
   "source": [
    "print(U.shape, s.shape, Vh.shape)"
   ]
  },
  {
   "cell_type": "code",
   "execution_count": 33,
   "metadata": {
    "ExecuteTime": {
     "end_time": "2022-01-31T13:32:39.353216Z",
     "start_time": "2022-01-31T13:32:39.344227Z"
    }
   },
   "outputs": [
    {
     "data": {
      "text/plain": [
       "array([433.92698542, 291.51012741, 240.71137677, 220.00048043])"
      ]
     },
     "execution_count": 33,
     "metadata": {},
     "output_type": "execute_result"
    }
   ],
   "source": [
    "s[:4]"
   ]
  },
  {
   "cell_type": "code",
   "execution_count": 34,
   "metadata": {
    "ExecuteTime": {
     "end_time": "2022-01-31T13:32:39.356859Z",
     "start_time": "2022-01-31T13:32:39.354452Z"
    }
   },
   "outputs": [
    {
     "data": {
      "text/plain": [
       "array([433.92698542, 291.51012741, 240.71137677, 220.00048043])"
      ]
     },
     "execution_count": 34,
     "metadata": {},
     "output_type": "execute_result"
    }
   ],
   "source": [
    "np.diag(np.diag(s[:4]))"
   ]
  },
  {
   "cell_type": "markdown",
   "metadata": {},
   "source": [
    "En la generalidad del SVD, para una matriz A de dimensiones m x n:\n",
    "\n",
    "- U es m x r\n",
    "- s es r x r (a menudo representado como un vector de longitud r)\n",
    "- Vh es r x n\n",
    "\n",
    "El valor r representa el rango de la matriz A, que es a lo sumo $\\min(m, n)$.\n",
    "\n",
    "Sin embargo, en la práctica, especialmente para matrices grandes y dispersas (como las utilizadas en modelado de temas), a menudo elegimos r para que sea más pequeño que el rango completo. Esto se llama SVD truncado o aproximación de rango bajo.\n",
    "\n",
    "r en este contexto representa la cantidad de valores/vectores singulares que queremos conservar. A menudo es mucho más pequeño que $\\min(m, n)$.\n",
    "\n",
    "La elección de r:\n",
    "- r se elige en función de restricciones computacionales o del nivel deseado de reducción de dimensionalidad.\n",
    "- En el modelado de temas, r a menudo representa la cantidad de temas que queremos extraer.\n",
    "- Hay métodos para ayudar a elegir r, como observar el decaimiento de los valores singulares o utilizar técnicas como el método del codo.\n",
    "\n",
    "El significado de r:\n",
    "- Cada par de valor/vector singular representa un \"concepto\" o \"tema\" en los datos.\n",
    "- Mantener los primeros r valores/vectores singulares significa que estamos conservando los r conceptos más importantes.\n",
    "- Esto nos permite aproximar la matriz original con una representación de menor dimensionalidad.\n",
    "\n",
    "Compensaciones en la elección de r:\n",
    "- r más pequeño: Más compresión, cálculos más rápidos, pero potencialmente pérdida de información.\n",
    "- r más grande: Menos compresión, cálculos más lentos, pero potencialmente una representación más precisa.\n",
    "\n",
    "En el contexto del modelado de temas, r a menudo se elige en función del número deseado de temas, que suele ser mucho menor que el tamaño del vocabulario o el número de documentos. La elección de r es parte del proceso de selección del modelo y puede tener un impacto significativo en la interpretabilidad y calidad de los temas resultantes."
   ]
  },
  {
   "cell_type": "markdown",
   "metadata": {
    "lang": "en",
    "solution2": "hidden",
    "solution2_first": true
   },
   "source": [
    "**Ejercicio: Confirme que esto es una descomposición de la `vectors`.**"
   ]
  },
  {
   "cell_type": "code",
   "execution_count": 35,
   "metadata": {
    "ExecuteTime": {
     "end_time": "2022-01-31T11:39:56.512154Z",
     "start_time": "2022-01-31T11:39:55.209000Z"
    },
    "solution2": "hidden"
   },
   "outputs": [
    {
     "data": {
      "text/plain": [
       "True"
      ]
     },
     "execution_count": 35,
     "metadata": {},
     "output_type": "execute_result"
    }
   ],
   "source": [
    "#Ejercicio: confirmar que U, s, Vh es una descomposición de `vectors`\n"
   ]
  },
  {
   "cell_type": "markdown",
   "metadata": {
    "lang": "en",
    "solution2": "hidden",
    "solution2_first": true
   },
   "source": [
    "**Ejercicio: Confirme que U, V son ortonormales**"
   ]
  },
  {
   "cell_type": "code",
   "execution_count": 36,
   "metadata": {
    "ExecuteTime": {
     "end_time": "2022-01-31T11:42:47.727557Z",
     "start_time": "2022-01-31T11:42:47.018106Z"
    },
    "solution2": "hidden"
   },
   "outputs": [
    {
     "data": {
      "text/plain": [
       "True"
      ]
     },
     "execution_count": 36,
     "metadata": {},
     "output_type": "execute_result"
    }
   ],
   "source": [
    "#Ejercicio: Confirmar que U, Vh son ortonormales\n"
   ]
  },
  {
   "cell_type": "markdown",
   "metadata": {
    "lang": "es"
   },
   "source": [
    "#### Tópicos"
   ]
  },
  {
   "cell_type": "markdown",
   "metadata": {
    "lang": "es"
   },
   "source": [
    "¿Qué podemos decir acerca de los valores singulares s?"
   ]
  },
  {
   "cell_type": "code",
   "execution_count": 37,
   "metadata": {
    "ExecuteTime": {
     "end_time": "2022-01-31T13:32:39.421645Z",
     "start_time": "2022-01-31T13:32:39.357730Z"
    }
   },
   "outputs": [
    {
     "data": {
      "image/png": "[encoded data removed]",
      "text/plain": [
       "<Figure size 640x480 with 1 Axes>"
      ]
     },
     "metadata": {},
     "output_type": "display_data"
    }
   ],
   "source": [
    "plt.plot(s);"
   ]
  },
  {
   "cell_type": "code",
   "execution_count": 38,
   "metadata": {
    "ExecuteTime": {
     "end_time": "2022-01-31T13:32:39.474288Z",
     "start_time": "2022-01-31T13:32:39.422482Z"
    }
   },
   "outputs": [
    {
     "data": {
      "text/plain": [
       "[<matplotlib.lines.Line2D at 0x7f40b37fd040>]"
      ]
     },
     "execution_count": 38,
     "metadata": {},
     "output_type": "execute_result"
    },
    {
     "data": {
      "image/png": "[encoded data removed]",
      "text/plain": [
       "<Figure size 640x480 with 1 Axes>"
      ]
     },
     "metadata": {},
     "output_type": "display_data"
    }
   ],
   "source": [
    "plt.plot(s[:10])"
   ]
  },
  {
   "cell_type": "code",
   "execution_count": 39,
   "metadata": {
    "ExecuteTime": {
     "end_time": "2022-01-31T13:32:39.477249Z",
     "start_time": "2022-01-31T13:32:39.475162Z"
    }
   },
   "outputs": [],
   "source": [
    "num_top_words=8\n",
    "\n",
    "def show_topics(a):\n",
    "    top_words = lambda t: [vocab[i] for i in np.argsort(t)[:-num_top_words-1:-1]]\n",
    "    topic_words = ([top_words(t) for t in a])\n",
    "    return [' '.join(t) for t in topic_words]"
   ]
  },
  {
   "cell_type": "markdown",
   "metadata": {},
   "source": [
    "Expliquemos la función `show_topics` paso a paso:\n",
    "\n",
    "1. La función `show_topics` toma una matriz `a` donde cada fila representa un tópico.\n",
    "   \n",
    "2. Dentro de la función, se define una función lambda `top_words` que realiza lo siguiente:\n",
    "   - Toma un vector `t` (que representa un tópico)\n",
    "   - Usa `np.argsort(t)` para obtener los índices que ordenarían `t` de menor a mayor\n",
    "   - Selecciona los últimos `num_top_words` índices (que corresponden a las palabras más importantes del tópico) usando el slice `[:-num_top_words-1:-1]`\n",
    "   - Para cada uno de estos índices, obtiene la palabra correspondiente del vocabulario `vocab`\n",
    "\n",
    "3. Luego, se aplica la función `top_words` a cada fila de la matriz `a`:\n",
    "   - Esto crea una lista de listas, donde cada lista interna contiene las `num_top_words` palabras más importantes para un tópico.\n",
    "\n",
    "4. Finalmente, la función retorna una lista donde cada elemento es una cadena que representa un tópico con sus palabras más relevantes unidas por espacios.\n",
    "\n",
    "En resumen, `show_topics` identifica las palabras más relevantes para cada tópico en una matriz, y las devuelve como una lista de cadenas donde cada una representa un tópico con sus palabras más importantes.\n"
   ]
  },
  {
   "cell_type": "code",
   "execution_count": 40,
   "metadata": {
    "ExecuteTime": {
     "end_time": "2022-01-31T13:32:39.497745Z",
     "start_time": "2022-01-31T13:32:39.477996Z"
    }
   },
   "outputs": [
    {
     "data": {
      "text/plain": [
       "['ditto critus propagandist surname galacticentric kindergarten surreal imaginative',\n",
       " 'edu graphics data space pub mail 128 3d',\n",
       " 'space jesus launch god people satellite matthew atheists',\n",
       " 'space launch satellite commercial nasa satellites market year',\n",
       " 'jpeg graphics space pub edu ray mail send',\n",
       " 'jesus matthew prophecy messiah psalm isaiah david said',\n",
       " 'launch commercial satellite market image services satellites launches',\n",
       " 'data available nasa ftp grass anonymous contact gov',\n",
       " 'atheists god religious atheism religion believe belief atheist',\n",
       " 'probe data surface moon mars probes lunar launch']"
      ]
     },
     "execution_count": 40,
     "metadata": {},
     "output_type": "execute_result"
    }
   ],
   "source": [
    "show_topics(Vh[:10])"
   ]
  },
  {
   "cell_type": "markdown",
   "metadata": {
    "lang": "es"
   },
   "source": [
    "¡Obtenemos tópicos que coinciden con los tipos de grupos que esperaríamos! Esto es a pesar del hecho de que se trata de un **algoritmo no supervisado**, es decir, nunca le dijimos al algoritmo cómo se agrupan nuestros documentos."
   ]
  },
  {
   "cell_type": "markdown",
   "metadata": {},
   "source": [
    "Una referencia más teórica de SVD la pueden encontrar en [este libro](https://shainarace.github.io/LinearAlgebra/svd.html)"
   ]
  },
  {
   "cell_type": "markdown",
   "metadata": {},
   "source": [
    "## Non-negative Matrix Factorization (NMF)"
   ]
  },
  {
   "cell_type": "markdown",
   "metadata": {
    "lang": "es"
   },
   "source": [
    "#### Motivación"
   ]
  },
  {
   "cell_type": "markdown",
   "metadata": {},
   "source": [
    "<img src=\"images/face_pca.png\" alt=\"PCA on faces\" style=\"width: 80%\"/>\n",
    "\n",
    "(source: [NMF Tutorial](http://perso.telecom-paristech.fr/~essid/teach/NMF_tutorial_ICME-2014.pdf))\n",
    "\n",
    "Un enfoque más interpretable:\n",
    "\n",
    "<img src=\"images/face_outputs.png\" alt=\"NMF on Faces\" style=\"width: 80%\"/>\n",
    "\n",
    "(source: [NMF Tutorial](http://perso.telecom-paristech.fr/~essid/teach/NMF_tutorial_ICME-2014.pdf))"
   ]
  },
  {
   "cell_type": "markdown",
   "metadata": {},
   "source": [
    "#### Idea"
   ]
  },
  {
   "cell_type": "markdown",
   "metadata": {
    "lang": "es"
   },
   "source": [
    "En lugar de restringir nuestros factores para que sean *ortogonales*, otra idea sería restringirlos para que sean *no negativos*. NMF es una factorización de un conjunto de datos no negativos $V$: $$ V = W H$$ en matrices no negativas $W,\\; H$. A menudo, los factores positivos serán **más fáciles de interpretar** (y esta es la razón detrás de la popularidad de NMF)."
   ]
  },
  {
   "cell_type": "markdown",
   "metadata": {},
   "source": [
    "<img src=\"images/face_nmf.png\" alt=\"NMF on faces\" style=\"width: 80%\"/>\n",
    "\n",
    "(source: [NMF Tutorial](http://perso.telecom-paristech.fr/~essid/teach/NMF_tutorial_ICME-2014.pdf))"
   ]
  },
  {
   "cell_type": "markdown",
   "metadata": {
    "lang": "es"
   },
   "source": [
    "La factorización de matriz no negativa (NMF) es una factorización no exacta que se factoriza en una matriz positiva delgada y una matriz positiva corta. NMF es procesamiento numérico fuerte y no es único. Hay una serie de variaciones en él, creadas al agregar diferentes restricciones."
   ]
  },
  {
   "cell_type": "markdown",
   "metadata": {
    "lang": "es"
   },
   "source": [
    "#### Aplicaciones de NMF"
   ]
  },
  {
   "cell_type": "markdown",
   "metadata": {},
   "source": [
    "- [Face Decompositions](http://scikit-learn.org/stable/auto_examples/decomposition/plot_faces_decomposition.html#sphx-glr-auto-examples-decomposition-plot-faces-decomposition-py)\n",
    "- [Collaborative Filtering, eg movie recommendations](http://www.quuxlabs.com/blog/2010/09/matrix-factorization-a-simple-tutorial-and-implementation-in-python/)\n",
    "- [Audio source separation](https://pdfs.semanticscholar.org/cc88/0b24791349df39c5d9b8c352911a0417df34.pdf)\n",
    "- [Chemistry](http://ieeexplore.ieee.org/document/1532909/)\n",
    "- [Bioinformatics](https://bmcbioinformatics.biomedcentral.com/articles/10.1186/s12859-015-0485-4) and [Gene Expression](https://www.ncbi.nlm.nih.gov/pmc/articles/PMC2623306/)\n",
    "- Topic Modeling (el problema actual)\n",
    "\n",
    "<img src=\"images/nmf_doc.png\" alt=\"NMF on documents\" style=\"width: 60%\"/>\n",
    "\n",
    "(source: [NMF Tutorial](http://perso.telecom-paristech.fr/~essid/teach/NMF_tutorial_ICME-2014.pdf))"
   ]
  },
  {
   "cell_type": "markdown",
   "metadata": {
    "lang": "es"
   },
   "source": [
    "**Más lecturas**:\n",
    "\n",
    "- [El porqué y el cómo de la factorización de matrices no negativas](https://arxiv.org/pdf/1401.5226.pdf)"
   ]
  },
  {
   "cell_type": "markdown",
   "metadata": {},
   "source": [
    "### NMF de sklearn"
   ]
  },
  {
   "cell_type": "markdown",
   "metadata": {
    "lang": "es"
   },
   "source": [
    "Usaremos [la implementación de NMF de scikit-learn](http://scikit-learn.org/stable/modules/generated/sklearn.decomposition.NMF.html):"
   ]
  },
  {
   "cell_type": "markdown",
   "metadata": {},
   "source": [
    "En nuestra situación la matriz documento-término representa los documentos como filas y las palabras como columnas:\n",
    "\n",
    "![](images/nmf_sklearn.png)\n",
    "\n",
    "[fuente](https://www.semanticscholar.org/reader/ddf1fe965c2232f029cf7d4cc46d52c3fd6a7b29)"
   ]
  },
  {
   "cell_type": "code",
   "execution_count": 41,
   "metadata": {
    "ExecuteTime": {
     "end_time": "2022-01-31T13:32:39.499796Z",
     "start_time": "2022-01-31T13:32:39.498485Z"
    }
   },
   "outputs": [],
   "source": [
    "m,n=vectors.shape\n",
    "d=5  # num topics"
   ]
  },
  {
   "cell_type": "code",
   "execution_count": 48,
   "metadata": {
    "ExecuteTime": {
     "end_time": "2022-01-31T13:32:41.611082Z",
     "start_time": "2022-01-31T13:32:39.501238Z"
    }
   },
   "outputs": [],
   "source": [
    "clf = decomposition.NMF(n_components=d, random_state=1, init='nndsvda')\n",
    "\n",
    "W1 = clf.fit_transform(np.asarray(vectors))\n",
    "H1 = clf.components_"
   ]
  },
  {
   "cell_type": "code",
   "execution_count": 49,
   "metadata": {
    "ExecuteTime": {
     "end_time": "2022-01-31T13:32:41.614093Z",
     "start_time": "2022-01-31T13:32:41.612074Z"
    }
   },
   "outputs": [
    {
     "name": "stdout",
     "output_type": "stream",
     "text": [
      "(2034, 5)\n",
      "(5, 26576)\n"
     ]
    }
   ],
   "source": [
    "print(W1.shape)\n",
    "print(H1.shape)"
   ]
  },
  {
   "cell_type": "code",
   "execution_count": 47,
   "metadata": {
    "ExecuteTime": {
     "end_time": "2022-01-31T13:32:41.629375Z",
     "start_time": "2022-01-31T13:32:41.614839Z"
    }
   },
   "outputs": [
    {
     "data": {
      "text/plain": [
       "['jpeg image gif file color images format quality',\n",
       " 'edu graphics pub mail 128 ray ftp send',\n",
       " 'space launch satellite nasa commercial satellites year market',\n",
       " 'jesus god people matthew atheists does atheism said',\n",
       " 'image data available software processing ftp edu analysis']"
      ]
     },
     "execution_count": 47,
     "metadata": {},
     "output_type": "execute_result"
    }
   ],
   "source": [
    "show_topics(H1)"
   ]
  },
  {
   "cell_type": "markdown",
   "metadata": {},
   "source": [
    "### TF-IDF"
   ]
  },
  {
   "cell_type": "markdown",
   "metadata": {
    "lang": "es"
   },
   "source": [
    "[Topic Frequency-Inverse Document Frequency](http://www.tfidf.com/) (TF-IDF) es una forma de normalizar el recuento de términos teniendo en cuenta la frecuencia con la que aparecen en un documento, la extensión del documento, y qué tan común/raro es el término.\n",
    "\n",
    "TF = (# de ocurrencias del término t en el documento) / (# de palabras en los documentos)\n",
    "\n",
    "IDF = log(# de documentos / # documentos con el término t en él)"
   ]
  },
  {
   "cell_type": "markdown",
   "metadata": {
    "lang": "es"
   },
   "source": [
    "**Ejemplo**: Considere un documento que contiene 100 palabras en el que la palabra gato aparece 3 veces. El término frecuencia (es decir, tf) para gato es entonces $(3/100) = 0.03$. Ahora, supongamos que tenemos 10 millones de documentos y la palabra gato aparece en mil de ellos. Entonces, la frecuencia inversa del documento (es decir, idf) se calcula como $\\log(10 000 000 / 1 000) = 4$. Por lo tanto, el peso de Tf-idf es el producto de estas cantidades: $$0.03 * 4 = 0.12.$$"
   ]
  },
  {
   "cell_type": "code",
   "execution_count": 50,
   "metadata": {
    "ExecuteTime": {
     "end_time": "2022-01-31T13:32:41.839803Z",
     "start_time": "2022-01-31T13:32:41.630094Z"
    }
   },
   "outputs": [],
   "source": [
    "vectorizer_tfidf = TfidfVectorizer(stop_words='english')\n",
    "vectors_tfidf = vectorizer_tfidf.fit_transform(newsgroups_train.data) # (documents, vocab)"
   ]
  },
  {
   "cell_type": "code",
   "execution_count": 51,
   "metadata": {
    "ExecuteTime": {
     "end_time": "2022-01-31T13:32:41.959520Z",
     "start_time": "2022-01-31T13:32:41.840618Z"
    }
   },
   "outputs": [],
   "source": [
    "W1 = clf.fit_transform(vectors_tfidf)\n",
    "H1 = clf.components_"
   ]
  },
  {
   "cell_type": "code",
   "execution_count": 52,
   "metadata": {
    "ExecuteTime": {
     "end_time": "2022-01-31T13:32:41.967297Z",
     "start_time": "2022-01-31T13:32:41.960377Z"
    }
   },
   "outputs": [
    {
     "data": {
      "text/plain": [
       "['people don think just like objective say morality',\n",
       " 'graphics thanks files image file program windows know',\n",
       " 'space nasa launch shuttle orbit moon lunar earth',\n",
       " 'ico bobbe tek beauchaine bronx manhattan sank queens',\n",
       " 'god jesus bible believe christian atheism does belief']"
      ]
     },
     "execution_count": 52,
     "metadata": {},
     "output_type": "execute_result"
    }
   ],
   "source": [
    "show_topics(H1)"
   ]
  },
  {
   "cell_type": "code",
   "execution_count": 53,
   "metadata": {
    "ExecuteTime": {
     "end_time": "2022-01-31T13:32:42.030260Z",
     "start_time": "2022-01-31T13:32:41.967961Z"
    }
   },
   "outputs": [
    {
     "data": {
      "text/plain": [
       "[<matplotlib.lines.Line2D at 0x7f40995d3350>]"
      ]
     },
     "execution_count": 53,
     "metadata": {},
     "output_type": "execute_result"
    },
    {
     "data": {
      "image/png": "[encoded data removed]",
      "text/plain": [
       "<Figure size 640x480 with 1 Axes>"
      ]
     },
     "metadata": {},
     "output_type": "display_data"
    }
   ],
   "source": [
    "plt.plot(clf.components_[0])"
   ]
  },
  {
   "cell_type": "code",
   "execution_count": 54,
   "metadata": {
    "ExecuteTime": {
     "end_time": "2022-01-31T13:32:42.033830Z",
     "start_time": "2022-01-31T13:32:42.031343Z"
    }
   },
   "outputs": [
    {
     "data": {
      "text/plain": [
       "43.71292606348688"
      ]
     },
     "execution_count": 54,
     "metadata": {},
     "output_type": "execute_result"
    }
   ],
   "source": [
    "clf.reconstruction_err_"
   ]
  },
  {
   "cell_type": "markdown",
   "metadata": {
    "lang": "es"
   },
   "source": [
    "### NMF en resumen"
   ]
  },
  {
   "cell_type": "markdown",
   "metadata": {
    "lang": "es"
   },
   "source": [
    "Beneficios: ¡Rápido y fácil de usar!\n",
    "\n",
    "Desventajas: tomó años de investigación y experiencia para crear"
   ]
  },
  {
   "cell_type": "markdown",
   "metadata": {
    "lang": "es"
   },
   "source": [
    "Notas:\n",
    "- Para NMF, la matriz debe ser al menos tan alta como ancha, u obtenemos un error con fit_transform\n",
    "- Puede usar `df_min` en `CountVectorizer` para ver solo las palabras que estaban en al menos k de los textos divididos."
   ]
  },
  {
   "cell_type": "markdown",
   "metadata": {
    "lang": "es"
   },
   "source": [
    "## SVD truncado"
   ]
  },
  {
   "cell_type": "markdown",
   "metadata": {
    "lang": "es"
   },
   "source": [
    "Ahorramos mucho tiempo cuando calculamos NMF calculando solo el subconjunto de columnas que nos interesaba. ¿Hay alguna manera de obtener este beneficio con SVD? ¡Sí hay! Se llama SVD truncado. Solo estamos interesados ​​en los vectores correspondientes a los **mayores** valores singulares."
   ]
  },
  {
   "cell_type": "markdown",
   "metadata": {},
   "source": [
    "<img src=\"images/svd_fb.png\" alt=\"\" style=\"width: 60%\"/>\n",
    "\n",
    "(source: [Facebook Research: Fast Randomized SVD](https://research.fb.com/fast-randomized-svd/))"
   ]
  },
  {
   "cell_type": "markdown",
   "metadata": {
    "lang": "es"
   },
   "source": [
    "#### Deficiencias de los algoritmos clásicos para la descomposición:"
   ]
  },
  {
   "cell_type": "markdown",
   "metadata": {
    "lang": "es"
   },
   "source": [
    "- Las matrices son \"estupendamente grandes\"\n",
    "- Los datos a menudo **faltan o son inexactos**. ¿Por qué gastar recursos computacionales adicionales cuando la imprecisión de la entrada limita la precisión de la salida?\n",
    "- **La transferencia de datos** ahora juega un papel importante en el tiempo de los algoritmos. Las técnicas que requieren menos pasadas sobre los datos pueden ser sustancialmente más rápidas, incluso si requieren más flops (flops = operaciones de coma flotante).\n",
    "- Importante aprovechar las **GPUs**.\n",
    "\n",
    "(fuente: [Halko](https://arxiv.org/abs/0909.4061))"
   ]
  },
  {
   "cell_type": "markdown",
   "metadata": {
    "lang": "es"
   },
   "source": [
    "#### Ventajas de los algoritmos aleatorios:"
   ]
  },
  {
   "cell_type": "markdown",
   "metadata": {
    "lang": "es"
   },
   "source": [
    "- intrínsecamente estable\n",
    "- las garantías de rendimiento no dependen de propiedades espectrales sutiles\n",
    "- los productos matriz-vector necesarios se pueden hacer en paralelo\n",
    "\n",
    "(fuente: [Halko](https://arxiv.org/abs/0909.4061))"
   ]
  },
  {
   "cell_type": "markdown",
   "metadata": {
    "lang": "es"
   },
   "source": [
    "### Comparación de tiempos"
   ]
  },
  {
   "cell_type": "code",
   "execution_count": 55,
   "metadata": {
    "ExecuteTime": {
     "end_time": "2022-01-31T13:33:26.878421Z",
     "start_time": "2022-01-31T13:32:42.034783Z"
    },
    "scrolled": true
   },
   "outputs": [
    {
     "name": "stdout",
     "output_type": "stream",
     "text": [
      "CPU times: user 5min 30s, sys: 3.01 s, total: 5min 33s\n",
      "Wall time: 1min 25s\n"
     ]
    }
   ],
   "source": [
    "%time u, s, v = np.linalg.svd(vectors, full_matrices=False)"
   ]
  },
  {
   "cell_type": "code",
   "execution_count": 56,
   "metadata": {
    "ExecuteTime": {
     "end_time": "2022-01-31T13:33:26.881571Z",
     "start_time": "2022-01-31T13:33:26.879373Z"
    }
   },
   "outputs": [],
   "source": [
    "from sklearn import decomposition\n",
    "import fbpca #pip install fbpca"
   ]
  },
  {
   "cell_type": "code",
   "execution_count": 57,
   "metadata": {
    "ExecuteTime": {
     "end_time": "2022-01-31T13:33:29.673300Z",
     "start_time": "2022-01-31T13:33:26.882282Z"
    }
   },
   "outputs": [
    {
     "name": "stdout",
     "output_type": "stream",
     "text": [
      "CPU times: user 11.4 s, sys: 956 ms, total: 12.4 s\n",
      "Wall time: 3.27 s\n"
     ]
    }
   ],
   "source": [
    "%time u, s, v = decomposition.randomized_svd(vectors, 10,random_state=1)"
   ]
  },
  {
   "cell_type": "markdown",
   "metadata": {
    "lang": "en"
   },
   "source": [
    "Randomized SVD from Facebook's library fbpca:"
   ]
  },
  {
   "cell_type": "markdown",
   "metadata": {
    "lang": "es"
   },
   "source": [
    "Randomized SVD de la librería `fbpca` de Meta:"
   ]
  },
  {
   "cell_type": "code",
   "execution_count": 58,
   "metadata": {
    "ExecuteTime": {
     "end_time": "2022-01-31T13:33:30.205267Z",
     "start_time": "2022-01-31T13:33:29.674155Z"
    }
   },
   "outputs": [
    {
     "name": "stdout",
     "output_type": "stream",
     "text": [
      "CPU times: user 3.34 s, sys: 325 ms, total: 3.66 s\n",
      "Wall time: 1.06 s\n"
     ]
    }
   ],
   "source": [
    "%time u, s, v = fbpca.pca(vectors, 10)"
   ]
  }
 ],
 "metadata": {
  "kernelspec": {
   "display_name": "Python 3 (ipykernel)",
   "language": "python",
   "name": "python3"
  },
  "language_info": {
   "codemirror_mode": {
    "name": "ipython",
    "version": 3
   },
   "file_extension": ".py",
   "mimetype": "text/x-python",
   "name": "python",
   "nbconvert_exporter": "python",
   "pygments_lexer": "ipython3",
   "version": "3.12.2"
  },
  "nbTranslate": {
   "displayLangs": [
    "*"
   ],
   "hotkey": "alt-t",
   "langInMainMenu": true,
   "sourceLang": "en",
   "targetLang": "es",
   "useGoogleTranslate": true
  }
 },
 "nbformat": 4,
 "nbformat_minor": 4
}
