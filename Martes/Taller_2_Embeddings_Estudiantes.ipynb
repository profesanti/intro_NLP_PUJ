{
 "cells": [
  {
   "cell_type": "markdown",
   "id": "40dac015-4fcb-446d-b19f-966a81c50a07",
   "metadata": {},
   "source": [
    "# Taller de Embeddings de Palabras\n",
    "\n",
    "## Objetivos\n",
    "\n",
    "* Explorar el uso de embeddings de palabras para encontrar sinónimos y relaciones entre palabras.\n",
    "* Aplicar \"álgebra de palabras\" utilizando el modelo word2vec para resolver analogías.\n",
    "\n",
    "## Introducción\n",
    "\n",
    "Los embeddings de palabras son representaciones vectoriales de palabras que capturan las relaciones semánticas y sintácticas entre ellas. Uno de los modelos más populares para generar estos embeddings es word2vec, desarrollado por investigadores de Google.\n",
    "\n",
    "En este taller, utilizaremos el modelo word2vec para explorar las capacidades de los embeddings de palabras. Específicamente, buscaremos sinónimos de palabras dadas y aplicaremos \"álgebra de palabras\" para resolver analogías.\n",
    "\n",
    "## Ejercicios\n",
    "\n",
    "1. Encontrar sinónimos:\n",
    "* Selecciona 5 palabras clave.\n",
    "* Utiliza el modelo word2vec para encontrar las 3 palabras más similares (en términos de coseno de similitud) para cada una de las 5 palabras clave.\n",
    "* Analiza los resultados y discute si los sinónimos encontrados son apropiados.\n",
    "\n",
    "2. Álgebra de palabras:\n",
    "\n",
    "* Utiliza el modelo word2vec para calcular el vector resultante de la operación king - man + queen.\n",
    "* Encuentra la palabra más cercana (en términos de coseno de similitud) al vector resultante.\n",
    "* Discute el significado de esta operación y el resultado obtenido.\n"
   ]
  },
  {
   "cell_type": "code",
   "execution_count": 1,
   "id": "00256905-cfa0-49ad-8cd3-5aa2ad42fa53",
   "metadata": {},
   "outputs": [],
   "source": [
    "import gensim.downloader as api\n",
    "\n",
    "# Cargar el modelo pre-entrenado de word2vec\n",
    "model = api.load('word2vec-google-news-300')\n"
   ]
  },
  {
   "cell_type": "code",
   "execution_count": null,
   "id": "79b814de-7398-4193-b4dd-f89991255339",
   "metadata": {},
   "outputs": [],
   "source": []
  }
 ],
 "metadata": {
  "kernelspec": {
   "display_name": "Python 3 (ipykernel)",
   "language": "python",
   "name": "python3"
  },
  "language_info": {
   "codemirror_mode": {
    "name": "ipython",
    "version": 3
   },
   "file_extension": ".py",
   "mimetype": "text/x-python",
   "name": "python",
   "nbconvert_exporter": "python",
   "pygments_lexer": "ipython3",
   "version": "3.9.0"
  }
 },
 "nbformat": 4,
 "nbformat_minor": 5
}
