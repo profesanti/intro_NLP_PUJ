{
 "cells": [
  {
   "cell_type": "markdown",
   "id": "303d9d7f-d97e-4164-ac4a-31af770822a0",
   "metadata": {},
   "source": [
    "# Taller de NLP: Procesando textos con técnicas simples"
   ]
  },
  {
   "cell_type": "markdown",
   "id": "4deb9569-4d68-40a4-9398-84a8f533f20a",
   "metadata": {},
   "source": [
    "Para este taller deberás disponer de algunas librerías como scikit-learn, NLTK, spacy y fbpca. "
   ]
  },
  {
   "cell_type": "code",
   "execution_count": 1,
   "id": "de8b020a-5c7a-43a4-a9d8-657208f5f9f8",
   "metadata": {
    "execution": {
     "iopub.execute_input": "2022-02-02T13:48:08.470449Z",
     "iopub.status.busy": "2022-02-02T13:48:08.470237Z",
     "iopub.status.idle": "2022-02-02T13:48:08.474804Z",
     "shell.execute_reply": "2022-02-02T13:48:08.474340Z",
     "shell.execute_reply.started": "2022-02-02T13:48:08.470426Z"
    },
    "tags": []
   },
   "outputs": [],
   "source": [
    "import pandas as pd\n",
    "import numpy as np\n",
    "from sklearn import decomposition\n",
    "from scipy import linalg\n",
    "import matplotlib.pyplot as plt\n",
    "\n",
    "## for processing\n",
    "import re\n",
    "import nltk\n",
    "\n",
    "from sklearn import feature_extraction, model_selection, naive_bayes, pipeline, manifold, preprocessing, metrics\n",
    "from sklearn.feature_extraction.text import CountVectorizer, TfidfVectorizer"
   ]
  },
  {
   "cell_type": "code",
   "execution_count": 2,
   "id": "cc38b1d7-a427-44e3-89e3-e2d4c728721f",
   "metadata": {
    "execution": {
     "iopub.execute_input": "2022-02-02T13:48:19.716322Z",
     "iopub.status.busy": "2022-02-02T13:48:19.716118Z",
     "iopub.status.idle": "2022-02-02T13:48:19.722895Z",
     "shell.execute_reply": "2022-02-02T13:48:19.722430Z",
     "shell.execute_reply.started": "2022-02-02T13:48:19.716300Z"
    },
    "tags": []
   },
   "outputs": [],
   "source": [
    "'''\n",
    "Función para preprocesar un texto.\n",
    ":parametros\n",
    "    :param text: string - nombre de la columna que contiene el texto\n",
    "    :param lst_stopwords: lista - lista de palabras vacías a eliminar\n",
    "    :param flg_stemm: bool - si se debe aplicar stemming\n",
    "    :param flg_lemm: bool - si se debe aplicar lematización\n",
    ":retorno\n",
    "    texto limpio\n",
    "'''\n",
    "def utils_preprocess_text(text, flg_stemm=False, flg_lemm=True, lst_stopwords=None):\n",
    "    \n",
    "    ## limpiar (convertir a minúsculas y eliminar puntuaciones y caracteres, luego hacer strip)\n",
    "    text = re.sub(r'[^\\w\\s]', '', str(text).lower().strip())\n",
    "            \n",
    "    ## Tokenizar (convertir de string a lista)\n",
    "    lst_text = text.split()\n",
    "    ## eliminar palabras vacías\n",
    "    if lst_stopwords is not None:\n",
    "        lst_text = [word for word in lst_text if word not in \n",
    "                    lst_stopwords]\n",
    "                \n",
    "    # Stemming (eliminar -ing, -ly, ...)\n",
    "    if flg_stemm == True:\n",
    "        ps = nltk.stem.porter.PorterStemmer()\n",
    "        lst_text = [ps.stem(word) for word in lst_text]\n",
    "                \n",
    "    # Lematización (convertir la palabra a su forma raíz)\n",
    "    if flg_lemm == True:\n",
    "        lem = nltk.stem.wordnet.WordNetLemmatizer()\n",
    "        lst_text = [lem.lemmatize(word) for word in lst_text]\n",
    "            \n",
    "    ## volver a convertir de lista a string\n",
    "    text = \" \".join(lst_text)\n",
    "    return text"
   ]
  },
  {
   "cell_type": "code",
   "execution_count": 3,
   "id": "df0799ae-922b-44ba-85ee-e589e1b9c592",
   "metadata": {
    "execution": {
     "iopub.execute_input": "2022-02-02T13:48:32.460487Z",
     "iopub.status.busy": "2022-02-02T13:48:32.460283Z",
     "iopub.status.idle": "2022-02-02T13:48:32.718456Z",
     "shell.execute_reply": "2022-02-02T13:48:32.718008Z",
     "shell.execute_reply.started": "2022-02-02T13:48:32.460465Z"
    },
    "tags": []
   },
   "outputs": [
    {
     "name": "stderr",
     "output_type": "stream",
     "text": [
      "[nltk_data] Downloading package stopwords to /home/santi/nltk_data...\n",
      "[nltk_data]   Unzipping corpora/stopwords.zip.\n",
      "[nltk_data] Downloading package wordnet to /home/santi/nltk_data...\n",
      "[nltk_data]   Package wordnet is already up-to-date!\n"
     ]
    },
    {
     "data": {
      "text/plain": [
       "True"
      ]
     },
     "execution_count": 3,
     "metadata": {},
     "output_type": "execute_result"
    }
   ],
   "source": [
    "nltk.download('stopwords')\n",
    "nltk.download('wordnet')"
   ]
  },
  {
   "cell_type": "code",
   "execution_count": 4,
   "id": "08207d98-591a-4f4f-8a71-8ad3e4a83b6c",
   "metadata": {
    "execution": {
     "iopub.execute_input": "2022-02-02T13:48:48.390601Z",
     "iopub.status.busy": "2022-02-02T13:48:48.390400Z",
     "iopub.status.idle": "2022-02-02T13:48:48.402063Z",
     "shell.execute_reply": "2022-02-02T13:48:48.401595Z",
     "shell.execute_reply.started": "2022-02-02T13:48:48.390579Z"
    },
    "tags": []
   },
   "outputs": [],
   "source": [
    "lst_stopwords = nltk.corpus.stopwords.words(\"english\")\n",
    "#print(lst_stopwords)"
   ]
  },
  {
   "cell_type": "markdown",
   "id": "3574eb73",
   "metadata": {},
   "source": [
    "En este taller trabajaremos con el dataset `progressive-tweet-sentiment` el cual tiene algunos tweets recopilados y categorizados en 4 clases: 'Legalization of Abortion', 'Hillary Clinton', 'Feminist Movement', 'Atheism'. "
   ]
  },
  {
   "cell_type": "code",
   "execution_count": 5,
   "id": "2efe95f0-b3e2-4eee-9414-af171d5299e1",
   "metadata": {
    "execution": {
     "iopub.execute_input": "2022-02-02T13:49:36.859012Z",
     "iopub.status.busy": "2022-02-02T13:49:36.858467Z",
     "iopub.status.idle": "2022-02-02T13:49:36.881428Z",
     "shell.execute_reply": "2022-02-02T13:49:36.881011Z",
     "shell.execute_reply.started": "2022-02-02T13:49:36.858987Z"
    },
    "tags": []
   },
   "outputs": [
    {
     "data": {
      "text/html": [
       "<div>\n",
       "<style scoped>\n",
       "    .dataframe tbody tr th:only-of-type {\n",
       "        vertical-align: middle;\n",
       "    }\n",
       "\n",
       "    .dataframe tbody tr th {\n",
       "        vertical-align: top;\n",
       "    }\n",
       "\n",
       "    .dataframe thead th {\n",
       "        text-align: right;\n",
       "    }\n",
       "</style>\n",
       "<table border=\"1\" class=\"dataframe\">\n",
       "  <thead>\n",
       "    <tr style=\"text-align: right;\">\n",
       "      <th></th>\n",
       "      <th>_unit_id</th>\n",
       "      <th>_golden</th>\n",
       "      <th>_unit_state</th>\n",
       "      <th>_trusted_judgments</th>\n",
       "      <th>_last_judgment_at</th>\n",
       "      <th>q1_from_reading_the_tweet_which_of_the_options_below_is_most_likely_to_be_true_about_the_stance_or_outlook_of_the_tweeter_towards_the_target</th>\n",
       "      <th>q1_from_reading_the_tweet_which_of_the_options_below_is_most_likely_to_be_true_about_the_stance_or_outlook_of_the_tweeter_towards_the_target:confidence</th>\n",
       "      <th>q2_which_of_the_options_below_is_true_about_the_opinion_in_the_tweet</th>\n",
       "      <th>q2_which_of_the_options_below_is_true_about_the_opinion_in_the_tweet:confidence</th>\n",
       "      <th>orig__golden</th>\n",
       "      <th>internal_id</th>\n",
       "      <th>orig_q1_from_reading_the_tweet_which_of_the_options_below_is_most_likely_to_be_true_about_the_stance_or_outlook_of_the_tweeter_towards_the_target</th>\n",
       "      <th>q1_from_reading_the_tweet_which_of_the_options_below_is_most_likely_to_be_true_about_the_stance_or_outlook_of_the_tweeter_towards_the_target_gold</th>\n",
       "      <th>orig_q2_which_of_the_options_below_is_true_about_the_opinion_in_the_tweet</th>\n",
       "      <th>target</th>\n",
       "      <th>tweet</th>\n",
       "      <th>tweet_id</th>\n",
       "    </tr>\n",
       "  </thead>\n",
       "  <tbody>\n",
       "    <tr>\n",
       "      <th>0</th>\n",
       "      <td>713632888</td>\n",
       "      <td>True</td>\n",
       "      <td>golden</td>\n",
       "      <td>30</td>\n",
       "      <td>NaN</td>\n",
       "      <td>AGAINST: We can infer from the tweet that the ...</td>\n",
       "      <td>0.6581</td>\n",
       "      <td>2. The tweet does NOT expresses opinion about ...</td>\n",
       "      <td>0.4976</td>\n",
       "      <td>True</td>\n",
       "      <td>189</td>\n",
       "      <td>NaN</td>\n",
       "      <td>AGAINST: We can infer from the tweet that the ...</td>\n",
       "      <td>NaN</td>\n",
       "      <td>Legalization of Abortion</td>\n",
       "      <td>Thank you for another day of life Lord. #Chris...</td>\n",
       "      <td>id588718177095266305</td>\n",
       "    </tr>\n",
       "    <tr>\n",
       "      <th>1</th>\n",
       "      <td>713632889</td>\n",
       "      <td>False</td>\n",
       "      <td>golden</td>\n",
       "      <td>2</td>\n",
       "      <td>NaN</td>\n",
       "      <td>NONE OF THE ABOVE: There is no clue in the twe...</td>\n",
       "      <td>1.0000</td>\n",
       "      <td>2. The tweet does NOT expresses opinion about ...</td>\n",
       "      <td>0.5294</td>\n",
       "      <td>True</td>\n",
       "      <td>190</td>\n",
       "      <td>NaN</td>\n",
       "      <td>AGAINST: We can infer from the tweet that the ...</td>\n",
       "      <td>NaN</td>\n",
       "      <td>Legalization of Abortion</td>\n",
       "      <td>@rosaryrevival Lovely to use Glorious Mysterie...</td>\n",
       "      <td>id592798858725425152</td>\n",
       "    </tr>\n",
       "    <tr>\n",
       "      <th>2</th>\n",
       "      <td>713632890</td>\n",
       "      <td>True</td>\n",
       "      <td>golden</td>\n",
       "      <td>26</td>\n",
       "      <td>NaN</td>\n",
       "      <td>AGAINST: We can infer from the tweet that the ...</td>\n",
       "      <td>0.8859</td>\n",
       "      <td>1.  The tweet explicitly expresses opinion abo...</td>\n",
       "      <td>0.8820</td>\n",
       "      <td>True</td>\n",
       "      <td>207</td>\n",
       "      <td>NaN</td>\n",
       "      <td>AGAINST: We can infer from the tweet that the ...</td>\n",
       "      <td>NaN</td>\n",
       "      <td>Legalization of Abortion</td>\n",
       "      <td>@Niall250 good thing is that #DUP have consist...</td>\n",
       "      <td>id593472619208380419</td>\n",
       "    </tr>\n",
       "    <tr>\n",
       "      <th>3</th>\n",
       "      <td>713632891</td>\n",
       "      <td>False</td>\n",
       "      <td>golden</td>\n",
       "      <td>3</td>\n",
       "      <td>NaN</td>\n",
       "      <td>AGAINST: We can infer from the tweet that the ...</td>\n",
       "      <td>0.6323</td>\n",
       "      <td>1.  The tweet explicitly expresses opinion abo...</td>\n",
       "      <td>0.6323</td>\n",
       "      <td>True</td>\n",
       "      <td>211</td>\n",
       "      <td>NaN</td>\n",
       "      <td>AGAINST: We can infer from the tweet that the ...</td>\n",
       "      <td>NaN</td>\n",
       "      <td>Legalization of Abortion</td>\n",
       "      <td>So, you tell me... is murder okay if the victi...</td>\n",
       "      <td>id592699132399194112</td>\n",
       "    </tr>\n",
       "    <tr>\n",
       "      <th>4</th>\n",
       "      <td>713632892</td>\n",
       "      <td>True</td>\n",
       "      <td>golden</td>\n",
       "      <td>31</td>\n",
       "      <td>NaN</td>\n",
       "      <td>AGAINST: We can infer from the tweet that the ...</td>\n",
       "      <td>0.8920</td>\n",
       "      <td>1.  The tweet explicitly expresses opinion abo...</td>\n",
       "      <td>0.8939</td>\n",
       "      <td>True</td>\n",
       "      <td>213</td>\n",
       "      <td>NaN</td>\n",
       "      <td>AGAINST: We can infer from the tweet that the ...</td>\n",
       "      <td>NaN</td>\n",
       "      <td>Legalization of Abortion</td>\n",
       "      <td>@HillaryClinton Don't you mean to say (all chi...</td>\n",
       "      <td>id588527665365188608</td>\n",
       "    </tr>\n",
       "  </tbody>\n",
       "</table>\n",
       "</div>"
      ],
      "text/plain": [
       "    _unit_id  _golden _unit_state  _trusted_judgments _last_judgment_at  \\\n",
       "0  713632888     True      golden                  30               NaN   \n",
       "1  713632889    False      golden                   2               NaN   \n",
       "2  713632890     True      golden                  26               NaN   \n",
       "3  713632891    False      golden                   3               NaN   \n",
       "4  713632892     True      golden                  31               NaN   \n",
       "\n",
       "  q1_from_reading_the_tweet_which_of_the_options_below_is_most_likely_to_be_true_about_the_stance_or_outlook_of_the_tweeter_towards_the_target  \\\n",
       "0  AGAINST: We can infer from the tweet that the ...                                                                                             \n",
       "1  NONE OF THE ABOVE: There is no clue in the twe...                                                                                             \n",
       "2  AGAINST: We can infer from the tweet that the ...                                                                                             \n",
       "3  AGAINST: We can infer from the tweet that the ...                                                                                             \n",
       "4  AGAINST: We can infer from the tweet that the ...                                                                                             \n",
       "\n",
       "   q1_from_reading_the_tweet_which_of_the_options_below_is_most_likely_to_be_true_about_the_stance_or_outlook_of_the_tweeter_towards_the_target:confidence  \\\n",
       "0                                             0.6581                                                                                                         \n",
       "1                                             1.0000                                                                                                         \n",
       "2                                             0.8859                                                                                                         \n",
       "3                                             0.6323                                                                                                         \n",
       "4                                             0.8920                                                                                                         \n",
       "\n",
       "  q2_which_of_the_options_below_is_true_about_the_opinion_in_the_tweet  \\\n",
       "0  2. The tweet does NOT expresses opinion about ...                     \n",
       "1  2. The tweet does NOT expresses opinion about ...                     \n",
       "2  1.  The tweet explicitly expresses opinion abo...                     \n",
       "3  1.  The tweet explicitly expresses opinion abo...                     \n",
       "4  1.  The tweet explicitly expresses opinion abo...                     \n",
       "\n",
       "   q2_which_of_the_options_below_is_true_about_the_opinion_in_the_tweet:confidence  \\\n",
       "0                                             0.4976                                 \n",
       "1                                             0.5294                                 \n",
       "2                                             0.8820                                 \n",
       "3                                             0.6323                                 \n",
       "4                                             0.8939                                 \n",
       "\n",
       "  orig__golden  internal_id  \\\n",
       "0         True          189   \n",
       "1         True          190   \n",
       "2         True          207   \n",
       "3         True          211   \n",
       "4         True          213   \n",
       "\n",
       "   orig_q1_from_reading_the_tweet_which_of_the_options_below_is_most_likely_to_be_true_about_the_stance_or_outlook_of_the_tweeter_towards_the_target  \\\n",
       "0                                                NaN                                                                                                   \n",
       "1                                                NaN                                                                                                   \n",
       "2                                                NaN                                                                                                   \n",
       "3                                                NaN                                                                                                   \n",
       "4                                                NaN                                                                                                   \n",
       "\n",
       "  q1_from_reading_the_tweet_which_of_the_options_below_is_most_likely_to_be_true_about_the_stance_or_outlook_of_the_tweeter_towards_the_target_gold  \\\n",
       "0  AGAINST: We can infer from the tweet that the ...                                                                                                  \n",
       "1  AGAINST: We can infer from the tweet that the ...                                                                                                  \n",
       "2  AGAINST: We can infer from the tweet that the ...                                                                                                  \n",
       "3  AGAINST: We can infer from the tweet that the ...                                                                                                  \n",
       "4  AGAINST: We can infer from the tweet that the ...                                                                                                  \n",
       "\n",
       "   orig_q2_which_of_the_options_below_is_true_about_the_opinion_in_the_tweet  \\\n",
       "0                                                NaN                           \n",
       "1                                                NaN                           \n",
       "2                                                NaN                           \n",
       "3                                                NaN                           \n",
       "4                                                NaN                           \n",
       "\n",
       "                     target  \\\n",
       "0  Legalization of Abortion   \n",
       "1  Legalization of Abortion   \n",
       "2  Legalization of Abortion   \n",
       "3  Legalization of Abortion   \n",
       "4  Legalization of Abortion   \n",
       "\n",
       "                                               tweet              tweet_id  \n",
       "0  Thank you for another day of life Lord. #Chris...  id588718177095266305  \n",
       "1  @rosaryrevival Lovely to use Glorious Mysterie...  id592798858725425152  \n",
       "2  @Niall250 good thing is that #DUP have consist...  id593472619208380419  \n",
       "3  So, you tell me... is murder okay if the victi...  id592699132399194112  \n",
       "4  @HillaryClinton Don't you mean to say (all chi...  id588527665365188608  "
      ]
     },
     "execution_count": 5,
     "metadata": {},
     "output_type": "execute_result"
    }
   ],
   "source": [
    "df = pd.read_csv(\"https://raw.githubusercontent.com/profesanti/intro_NLP_PUJ/main/Martes/data/progressive-tweet-sentiment.csv\",encoding='latin-1')\n",
    "df.head()"
   ]
  },
  {
   "cell_type": "code",
   "execution_count": 6,
   "id": "6176322e-c7f4-400f-beaf-f7508306bafa",
   "metadata": {
    "execution": {
     "iopub.execute_input": "2022-02-02T13:49:44.426063Z",
     "iopub.status.busy": "2022-02-02T13:49:44.425816Z",
     "iopub.status.idle": "2022-02-02T13:49:44.433681Z",
     "shell.execute_reply": "2022-02-02T13:49:44.433238Z",
     "shell.execute_reply.started": "2022-02-02T13:49:44.426040Z"
    },
    "tags": []
   },
   "outputs": [
    {
     "data": {
      "text/html": [
       "<div>\n",
       "<style scoped>\n",
       "    .dataframe tbody tr th:only-of-type {\n",
       "        vertical-align: middle;\n",
       "    }\n",
       "\n",
       "    .dataframe tbody tr th {\n",
       "        vertical-align: top;\n",
       "    }\n",
       "\n",
       "    .dataframe thead th {\n",
       "        text-align: right;\n",
       "    }\n",
       "</style>\n",
       "<table border=\"1\" class=\"dataframe\">\n",
       "  <thead>\n",
       "    <tr style=\"text-align: right;\">\n",
       "      <th></th>\n",
       "      <th>target</th>\n",
       "      <th>tweet</th>\n",
       "    </tr>\n",
       "  </thead>\n",
       "  <tbody>\n",
       "    <tr>\n",
       "      <th>0</th>\n",
       "      <td>Legalization of Abortion</td>\n",
       "      <td>Thank you for another day of life Lord. #Chris...</td>\n",
       "    </tr>\n",
       "    <tr>\n",
       "      <th>1</th>\n",
       "      <td>Legalization of Abortion</td>\n",
       "      <td>@rosaryrevival Lovely to use Glorious Mysterie...</td>\n",
       "    </tr>\n",
       "    <tr>\n",
       "      <th>2</th>\n",
       "      <td>Legalization of Abortion</td>\n",
       "      <td>@Niall250 good thing is that #DUP have consist...</td>\n",
       "    </tr>\n",
       "    <tr>\n",
       "      <th>3</th>\n",
       "      <td>Legalization of Abortion</td>\n",
       "      <td>So, you tell me... is murder okay if the victi...</td>\n",
       "    </tr>\n",
       "    <tr>\n",
       "      <th>4</th>\n",
       "      <td>Legalization of Abortion</td>\n",
       "      <td>@HillaryClinton Don't you mean to say (all chi...</td>\n",
       "    </tr>\n",
       "  </tbody>\n",
       "</table>\n",
       "</div>"
      ],
      "text/plain": [
       "                     target                                              tweet\n",
       "0  Legalization of Abortion  Thank you for another day of life Lord. #Chris...\n",
       "1  Legalization of Abortion  @rosaryrevival Lovely to use Glorious Mysterie...\n",
       "2  Legalization of Abortion  @Niall250 good thing is that #DUP have consist...\n",
       "3  Legalization of Abortion  So, you tell me... is murder okay if the victi...\n",
       "4  Legalization of Abortion  @HillaryClinton Don't you mean to say (all chi..."
      ]
     },
     "execution_count": 6,
     "metadata": {},
     "output_type": "execute_result"
    }
   ],
   "source": [
    "df = df[[\"target\", \"tweet\"]]\n",
    "df.head()"
   ]
  },
  {
   "cell_type": "markdown",
   "id": "4e96a96e-e85a-4495-b94b-d73b29af81bb",
   "metadata": {},
   "source": [
    "#### 1. Preprocesamiento. Realice procedimientos para preprocesar texto sobre la columna de `tweet` cómo: tokenizar, eliminar stopwords, stemming y lemmatization. Al final, el resultado de dicho procesamiento debe ser un texto (no una lista de palabras). "
   ]
  },
  {
   "cell_type": "code",
   "execution_count": 7,
   "id": "9dfae362-8efb-4bba-aad6-d67b3a671e0f",
   "metadata": {
    "execution": {
     "iopub.execute_input": "2022-02-02T13:50:02.672070Z",
     "iopub.status.busy": "2022-02-02T13:50:02.671528Z",
     "iopub.status.idle": "2022-02-02T13:50:02.734500Z",
     "shell.execute_reply": "2022-02-02T13:50:02.734139Z",
     "shell.execute_reply.started": "2022-02-02T13:50:02.672045Z"
    },
    "tags": []
   },
   "outputs": [
    {
     "data": {
      "text/html": [
       "<div>\n",
       "<style scoped>\n",
       "    .dataframe tbody tr th:only-of-type {\n",
       "        vertical-align: middle;\n",
       "    }\n",
       "\n",
       "    .dataframe tbody tr th {\n",
       "        vertical-align: top;\n",
       "    }\n",
       "\n",
       "    .dataframe thead th {\n",
       "        text-align: right;\n",
       "    }\n",
       "</style>\n",
       "<table border=\"1\" class=\"dataframe\">\n",
       "  <thead>\n",
       "    <tr style=\"text-align: right;\">\n",
       "      <th></th>\n",
       "      <th>target</th>\n",
       "      <th>tweet</th>\n",
       "      <th>text_clean</th>\n",
       "    </tr>\n",
       "  </thead>\n",
       "  <tbody>\n",
       "    <tr>\n",
       "      <th>0</th>\n",
       "      <td>Legalization of Abortion</td>\n",
       "      <td>Thank you for another day of life Lord. #Chris...</td>\n",
       "      <td>thank another day life lord christian catholic...</td>\n",
       "    </tr>\n",
       "    <tr>\n",
       "      <th>1</th>\n",
       "      <td>Legalization of Abortion</td>\n",
       "      <td>@rosaryrevival Lovely to use Glorious Mysterie...</td>\n",
       "      <td>rosaryrevival lovely use glorious mystery east...</td>\n",
       "    </tr>\n",
       "    <tr>\n",
       "      <th>2</th>\n",
       "      <td>Legalization of Abortion</td>\n",
       "      <td>@Niall250 good thing is that #DUP have consist...</td>\n",
       "      <td>niall250 good thing dup consistently said murd...</td>\n",
       "    </tr>\n",
       "    <tr>\n",
       "      <th>3</th>\n",
       "      <td>Legalization of Abortion</td>\n",
       "      <td>So, you tell me... is murder okay if the victi...</td>\n",
       "      <td>tell murder okay victim mentally disabled</td>\n",
       "    </tr>\n",
       "    <tr>\n",
       "      <th>4</th>\n",
       "      <td>Legalization of Abortion</td>\n",
       "      <td>@HillaryClinton Don't you mean to say (all chi...</td>\n",
       "      <td>hillaryclinton dont mean say child deserve cha...</td>\n",
       "    </tr>\n",
       "  </tbody>\n",
       "</table>\n",
       "</div>"
      ],
      "text/plain": [
       "                     target  \\\n",
       "0  Legalization of Abortion   \n",
       "1  Legalization of Abortion   \n",
       "2  Legalization of Abortion   \n",
       "3  Legalization of Abortion   \n",
       "4  Legalization of Abortion   \n",
       "\n",
       "                                               tweet  \\\n",
       "0  Thank you for another day of life Lord. #Chris...   \n",
       "1  @rosaryrevival Lovely to use Glorious Mysterie...   \n",
       "2  @Niall250 good thing is that #DUP have consist...   \n",
       "3  So, you tell me... is murder okay if the victi...   \n",
       "4  @HillaryClinton Don't you mean to say (all chi...   \n",
       "\n",
       "                                          text_clean  \n",
       "0  thank another day life lord christian catholic...  \n",
       "1  rosaryrevival lovely use glorious mystery east...  \n",
       "2  niall250 good thing dup consistently said murd...  \n",
       "3          tell murder okay victim mentally disabled  \n",
       "4  hillaryclinton dont mean say child deserve cha...  "
      ]
     },
     "execution_count": 7,
     "metadata": {},
     "output_type": "execute_result"
    }
   ],
   "source": [
    "# SOLUCIONAR AQUI"
   ]
  },
  {
   "cell_type": "markdown",
   "id": "3bf7d49b",
   "metadata": {},
   "source": [
    "Con todo el texto preprocesado crea una nube de palabras y visualizala"
   ]
  },
  {
   "cell_type": "code",
   "execution_count": null,
   "id": "1e0d53ab",
   "metadata": {},
   "outputs": [],
   "source": [
    "# pip install wordcloud\n",
    "from wordcloud import WordCloud\n",
    "import matplotlib.pyplot as plt\n",
    "\n",
    "# Combine all text_clean into a single string\n",
    "text_combined = \" \".join(df[\"text_clean\"])\n",
    "\n",
    "# Generate the word cloud\n",
    "wordcloud = WordCloud(width=800, height=400, background_color='white').generate(text_combined)\n",
    "\n",
    "# Display the word cloud\n",
    "plt.figure(figsize=(10, 5))\n",
    "plt.imshow(wordcloud, interpolation='bilinear')\n",
    "plt.axis('off')\n",
    "plt.show()\n"
   ]
  },
  {
   "cell_type": "markdown",
   "id": "d380b941-ec9e-44dd-b69e-7da295ef20f5",
   "metadata": {},
   "source": [
    "#### 2. Realice un estrategia de Bag of Words (BoW).  Produzca una mátriz término-documento, en este caso un simple conteo de palabras (`sklearn.feature_extraction.text.CountVectorizer`). ¿Cúal es el vocabulario? ¿Cuál es la dimensión de la matriz?"
   ]
  },
  {
   "cell_type": "code",
   "execution_count": 11,
   "id": "a0ad9319-71cf-454c-a79d-641365d497e1",
   "metadata": {
    "execution": {
     "iopub.execute_input": "2022-02-02T13:56:23.574368Z",
     "iopub.status.busy": "2022-02-02T13:56:23.574090Z",
     "iopub.status.idle": "2022-02-02T13:56:23.703748Z",
     "shell.execute_reply": "2022-02-02T13:56:23.703293Z",
     "shell.execute_reply.started": "2022-02-02T13:56:23.574345Z"
    },
    "tags": []
   },
   "outputs": [
    {
     "name": "stdout",
     "output_type": "stream",
     "text": [
      "(1159, 4419)\n"
     ]
    }
   ],
   "source": [
    "# SOLUCIONAR AQUI"
   ]
  },
  {
   "cell_type": "code",
   "execution_count": 14,
   "id": "56f1bf73-ba2c-4200-852d-93f19837e4ca",
   "metadata": {
    "execution": {
     "iopub.execute_input": "2022-02-02T13:56:34.022515Z",
     "iopub.status.busy": "2022-02-02T13:56:34.022011Z",
     "iopub.status.idle": "2022-02-02T13:56:34.027333Z",
     "shell.execute_reply": "2022-02-02T13:56:34.026863Z",
     "shell.execute_reply.started": "2022-02-02T13:56:34.022491Z"
    },
    "tags": []
   },
   "outputs": [
    {
     "name": "stdout",
     "output_type": "stream",
     "text": [
      "['yoursisright' 'youve' 'yr9' 'yup' 'yvrmoms' 'zacharyebell' 'zahara'\n",
      " 'zelda' 'zubair' 'ìååôåãåôì']\n"
     ]
    }
   ],
   "source": [
    "vocab = np.array(vectorizer.get_feature_names_out())\n",
    "print(vocab[-10:])"
   ]
  },
  {
   "cell_type": "markdown",
   "id": "c3a66dc5-7b79-49f5-aeb4-e6378a4f38e9",
   "metadata": {},
   "source": [
    "#### 3. Escoga un número de tópicos o temas (no muy grande, entre 4 y 10) y realice un análisis mediante factorización de valores singulares (SVD) de la matriz de término-documento obtenida anteriormente. ¿Qué interpretación puede realizar? ¿Qué puede concluir a través de las matrices U, S y V? . Recuerde que este procedimiento es aprendizaje NO supervisado."
   ]
  },
  {
   "cell_type": "code",
   "execution_count": 15,
   "id": "b69e28ef-0ba5-4b08-a198-346dfa0d6ad0",
   "metadata": {
    "execution": {
     "iopub.execute_input": "2022-02-02T13:57:51.842148Z",
     "iopub.status.busy": "2022-02-02T13:57:51.841936Z",
     "iopub.status.idle": "2022-02-02T13:57:51.846302Z",
     "shell.execute_reply": "2022-02-02T13:57:51.845880Z",
     "shell.execute_reply.started": "2022-02-02T13:57:51.842126Z"
    },
    "tags": []
   },
   "outputs": [],
   "source": [
    "num_top_words= # ESCOGER NUMERO DE TEMAS\n",
    "\n",
    "def show_topics(a):\n",
    "    top_words = lambda t: [vocab[i] for i in np.argsort(t)[:-num_top_words-1:-1]]\n",
    "    topic_words = ([top_words(t) for t in a])\n",
    "    return [' '.join(t) for t in topic_words]"
   ]
  },
  {
   "cell_type": "code",
   "execution_count": 16,
   "id": "40d6a8e6-d143-43d5-96c3-9dfb16112bc3",
   "metadata": {
    "execution": {
     "iopub.execute_input": "2022-02-02T13:58:21.903353Z",
     "iopub.status.busy": "2022-02-02T13:58:21.903219Z",
     "iopub.status.idle": "2022-02-02T13:58:21.960063Z",
     "shell.execute_reply": "2022-02-02T13:58:21.959573Z",
     "shell.execute_reply.started": "2022-02-02T13:58:21.903341Z"
    },
    "tags": []
   },
   "outputs": [],
   "source": [
    "# SOLUCIONAR AQUI"
   ]
  },
  {
   "cell_type": "code",
   "execution_count": 17,
   "id": "14ce0c25-1da0-42b1-8ce6-19eb460e6c02",
   "metadata": {
    "execution": {
     "iopub.execute_input": "2022-02-02T13:58:46.064650Z",
     "iopub.status.busy": "2022-02-02T13:58:46.064447Z",
     "iopub.status.idle": "2022-02-02T13:58:46.068273Z",
     "shell.execute_reply": "2022-02-02T13:58:46.067799Z",
     "shell.execute_reply.started": "2022-02-02T13:58:46.064628Z"
    },
    "tags": []
   },
   "outputs": [
    {
     "name": "stdout",
     "output_type": "stream",
     "text": [
      "(1159, 10) (10,) (10, 4419)\n"
     ]
    }
   ],
   "source": [
    "# SOLUCIONAR AQUI"
   ]
  },
  {
   "cell_type": "code",
   "execution_count": 18,
   "id": "de782300-223c-4c02-aa3d-f20a4563e2ed",
   "metadata": {
    "execution": {
     "iopub.execute_input": "2022-02-02T13:59:00.669085Z",
     "iopub.status.busy": "2022-02-02T13:59:00.668882Z",
     "iopub.status.idle": "2022-02-02T13:59:00.677095Z",
     "shell.execute_reply": "2022-02-02T13:59:00.676656Z",
     "shell.execute_reply.started": "2022-02-02T13:59:00.669063Z"
    },
    "tags": []
   },
   "outputs": [
    {
     "data": {
      "text/plain": [
       "['woman right dont men feminist people abortion want',\n",
       " 'god dont know life love best whats people',\n",
       " 'know best whats dont well people feminist want',\n",
       " 'know best woman whats god well happiness hillaryclinton',\n",
       " 'hillaryclinton hillary rt clinton world 2016 ready marcorubio',\n",
       " 'people abortion prochoice want never rt best kid',\n",
       " 'right people abortion life human equal believe whats',\n",
       " 'rt ready 2016 marcorubio futuretxleader yall feminist texas',\n",
       " 'dont woman abortion rt want life love fuck',\n",
       " 'hillaryclinton right feminist world people rt equal 2016']"
      ]
     },
     "execution_count": 18,
     "metadata": {},
     "output_type": "execute_result"
    }
   ],
   "source": [
    "# SOLUCIONAR AQUI"
   ]
  },
  {
   "cell_type": "markdown",
   "id": "f7d23fd2-839d-49b5-b4a5-7135a26e58aa",
   "metadata": {},
   "source": [
    "#### 4. Repita (3) pero realizando una factorización no negativa de matrices (NMF). ¿Qué interpreta a partir de las matrices obtenidas H y W?"
   ]
  },
  {
   "cell_type": "code",
   "execution_count": 19,
   "id": "184b2171-fbf6-4052-90d4-619a92967d2c",
   "metadata": {
    "execution": {
     "iopub.execute_input": "2022-02-02T14:00:45.448813Z",
     "iopub.status.busy": "2022-02-02T14:00:45.448609Z",
     "iopub.status.idle": "2022-02-02T14:00:45.497470Z",
     "shell.execute_reply": "2022-02-02T14:00:45.497151Z",
     "shell.execute_reply.started": "2022-02-02T14:00:45.448791Z"
    },
    "tags": []
   },
   "outputs": [
    {
     "name": "stdout",
     "output_type": "stream",
     "text": [
      "(1159, 10)\n",
      "(10, 4419)\n"
     ]
    }
   ],
   "source": [
    "# SOLUCIONAR AQUI"
   ]
  },
  {
   "cell_type": "code",
   "execution_count": 20,
   "id": "c068d462-0a79-4523-afcf-1dcf940c3373",
   "metadata": {
    "execution": {
     "iopub.execute_input": "2022-02-02T14:00:55.614198Z",
     "iopub.status.busy": "2022-02-02T14:00:55.613931Z",
     "iopub.status.idle": "2022-02-02T14:00:55.620123Z",
     "shell.execute_reply": "2022-02-02T14:00:55.619687Z",
     "shell.execute_reply.started": "2022-02-02T14:00:55.614156Z"
    },
    "tags": []
   },
   "outputs": [
    {
     "data": {
      "text/plain": [
       "['woman men need abortion like equal president man',\n",
       " 'god pray sinner life mother death love teamjesus',\n",
       " 'know best whats well happiness life health way',\n",
       " 'dont want fuck love men understand get make',\n",
       " 'hillaryclinton world president support success would readyforhrc bad',\n",
       " 'people abortion prochoice want life never kid choice',\n",
       " 'right human life equal one baby abortion believe',\n",
       " 'rt ready 2016 marcorubio futuretxleader yall texas gop',\n",
       " 'feminist men get youre equality shit ugly go',\n",
       " 'hillary clinton im like good time get think']"
      ]
     },
     "execution_count": 20,
     "metadata": {},
     "output_type": "execute_result"
    }
   ],
   "source": [
    "# SOLUCIONAR AQUI"
   ]
  },
  {
   "cell_type": "markdown",
   "id": "f9e1700b-74a2-4bd1-8945-70e675f9bc1c",
   "metadata": {
    "tags": []
   },
   "source": [
    "#### 5. Repita los puntos (3) y (4) pero con base en la matriz obtenida al realizar TF-IDF"
   ]
  },
  {
   "cell_type": "code",
   "execution_count": 21,
   "id": "a4810721-710f-46f7-a8fb-48037d3974bb",
   "metadata": {
    "execution": {
     "iopub.execute_input": "2022-02-02T14:04:40.304582Z",
     "iopub.status.busy": "2022-02-02T14:04:40.304377Z",
     "iopub.status.idle": "2022-02-02T14:04:40.324538Z",
     "shell.execute_reply": "2022-02-02T14:04:40.324257Z",
     "shell.execute_reply.started": "2022-02-02T14:04:40.304560Z"
    },
    "tags": []
   },
   "outputs": [],
   "source": [
    "vectorizer_tfidf = # SOLUCIONAR AQUI\n",
    "vectors_tfidf = # SOLUCIONAR AQUI"
   ]
  },
  {
   "cell_type": "code",
   "execution_count": 23,
   "id": "cf0fc685",
   "metadata": {},
   "outputs": [
    {
     "data": {
      "text/plain": [
       "['woman right dont feminist men god abortion people',\n",
       " 'god know life pray islam sinner mother amen',\n",
       " 'know best whats dont happiness well hillaryclinton health',\n",
       " 'hillaryclinton world 2016 ready rt marcorubio president hillary',\n",
       " 'ready abortion rt 2016 marcorubio futuretxleader yall dont',\n",
       " 'abortion life right human choice people adoption pregnant',\n",
       " 'right woman know 2016 marcorubio ready best whats',\n",
       " 'right hillary clinton human im dont time get',\n",
       " 'hillary clinton im abortion woman many think good',\n",
       " 'dont want love woman abortion baby choice mean']"
      ]
     },
     "execution_count": 23,
     "metadata": {},
     "output_type": "execute_result"
    }
   ],
   "source": [
    "# SOLUCIONAR AQUI (SVD)"
   ]
  },
  {
   "cell_type": "code",
   "execution_count": 22,
   "id": "84a2c7e9-57e9-4394-b465-15e528cba6b5",
   "metadata": {
    "execution": {
     "iopub.execute_input": "2022-02-02T14:04:59.619263Z",
     "iopub.status.busy": "2022-02-02T14:04:59.619054Z",
     "iopub.status.idle": "2022-02-02T14:04:59.680596Z",
     "shell.execute_reply": "2022-02-02T14:04:59.680327Z",
     "shell.execute_reply.started": "2022-02-02T14:04:59.619240Z"
    },
    "tags": []
   },
   "outputs": [
    {
     "data": {
      "text/plain": [
       "['woman men equal president need man like le',\n",
       " 'god pray sinner amen mary rosary hour mother',\n",
       " 'know best whats happiness well body health way',\n",
       " 'hillaryclinton world barackobama whole supporting support success president',\n",
       " 'ready 2016 marcorubio rt futuretxleader yall texas newamericancentury',\n",
       " 'abortion choice life one adoption beautiful day chooses',\n",
       " 'right human believe equal care life live baby',\n",
       " 'feminist dont want understand feminism equality men love',\n",
       " 'hillary clinton im good like get many way',\n",
       " 'people prochoice never kid love pregnant cant pro']"
      ]
     },
     "execution_count": 22,
     "metadata": {},
     "output_type": "execute_result"
    }
   ],
   "source": [
    "# SOLUCIONAR AQUI (NMF)"
   ]
  },
  {
   "cell_type": "markdown",
   "id": "3813cb10-ba5c-4eb3-8328-cc605bd1d78f",
   "metadata": {},
   "source": [
    "#### 7. Use PCA y realice una interpretación similar a la de la factorizaciones anteriores usando la matriz TF-IDF (¿Qué significa las componentes principales, qué palabras aportan más a cada componente?).\n",
    "\n",
    "Sugerencia: `pca.components_` representa los vectores propios (eigenvectors) del espacio transformado. En el contexto de análisis de texto, cada componente (fila de `pca.components_`) puede interpretarse como un \"tema\" o \"tópico\"."
   ]
  },
  {
   "cell_type": "code",
   "execution_count": 25,
   "id": "30c6d241",
   "metadata": {},
   "outputs": [
    {
     "data": {
      "text/plain": [
       "['woman right men feminist equal abortion equality want',\n",
       " 'god right dont know life woman feminist men',\n",
       " 'know best whats dont happiness well health hillaryclinton',\n",
       " 'hillaryclinton world god woman president right success support',\n",
       " 'right abortion life know rt ready woman 2016',\n",
       " '2016 marcorubio ready feminist rt men woman futuretxleader',\n",
       " 'right hillary im human clinton like get believe',\n",
       " 'dont right love hillaryclinton world people want life',\n",
       " 'people feminist ugly world equal equality right whats',\n",
       " 'people hillary clinton want woman many god best']"
      ]
     },
     "execution_count": 25,
     "metadata": {},
     "output_type": "execute_result"
    }
   ],
   "source": [
    "from sklearn.decomposition import PCA\n",
    "\n",
    "# SOLUCIONAR AQUI\n"
   ]
  },
  {
   "cell_type": "markdown",
   "id": "406b494e-71cc-411d-8d98-f226e78ed941",
   "metadata": {},
   "source": [
    "#### 8. Hasta ahora hemos realizado aprendizaje no supervisado, pero también podemos aplicar aprendizaje supervisado. Use las matrices de término-documento anteriores para realizar una clasificación, usando algunos modelos (Multinomial Naive Bayes, Random Forest, LDA, etc.). Debe tener en cuenta que para evaluar correctamente los resultados (al menos) debe usar una partición training-test (recomendable validación cruzada). Compare y discute los resultados a partir de diversas métricas de desempeño (no olvide la matriz de confusión). Sugerencia: realice la vectorización (conteo de palabras) y la clasificación en un Pipeline. "
   ]
  },
  {
   "cell_type": "code",
   "execution_count": 32,
   "id": "33c04785",
   "metadata": {},
   "outputs": [
    {
     "name": "stdout",
     "output_type": "stream",
     "text": [
      "Cross-validation scores: [0.74193548 0.69892473 0.66486486 0.65405405 0.65945946]\n",
      "Mean CV score: 0.6838\n"
     ]
    }
   ],
   "source": [
    "from sklearn.model_selection import train_test_split, cross_val_score\n",
    "from sklearn.ensemble import RandomForestClassifier\n",
    "from sklearn.pipeline import Pipeline\n",
    "from sklearn.metrics import classification_report, confusion_matrix\n",
    "import seaborn as sns\n",
    "\n",
    "# SOLUCIONAR AQUI\n"
   ]
  }
 ],
 "metadata": {
  "kernelspec": {
   "display_name": "Python 3 (ipykernel)",
   "language": "python",
   "name": "python3"
  },
  "language_info": {
   "codemirror_mode": {
    "name": "ipython",
    "version": 3
   },
   "file_extension": ".py",
   "mimetype": "text/x-python",
   "name": "python",
   "nbconvert_exporter": "python",
   "pygments_lexer": "ipython3",
   "version": "3.12.2"
  }
 },
 "nbformat": 4,
 "nbformat_minor": 5
}
