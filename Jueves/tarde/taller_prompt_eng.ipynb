{
 "cells": [
  {
   "cell_type": "markdown",
   "metadata": {},
   "source": [
    "# Taller: Análisis de Tópicos y Clasificación de Sentimientos con LLMs\n",
    "\n",
    "Este taller combina los talleres desarrollados el martes y el miércoles. Esta vez se quiere solucionar los problemas pero usando LLMs."
   ]
  },
  {
   "cell_type": "markdown",
   "metadata": {},
   "source": [
    "\n",
    "## Parte 1: Análisis de Tópicos en Tweets\n",
    "\n",
    "En esta sección, utilizaremos un Large Language Model (LLM) a través de la API de Groq para identificar los tópicos principales en un conjunto de tweets."
   ]
  },
  {
   "cell_type": "markdown",
   "metadata": {},
   "source": [
    "1. Carga el dataset de tweets proporcionado."
   ]
  },
  {
   "cell_type": "markdown",
   "metadata": {},
   "source": [
    "\n",
    "2. Implementa una función que utilice la API de Groq para analizar los tweets y extraer los tópicos principales. Tu función debe:\n",
    "   - Tomar como entrada un conjunto de tweets.\n",
    "   - Utilizar un prompt adecuado para instruir al LLM en la tarea de identificación de tópicos.\n",
    "   - Devolver una lista estructurada de tópicos identificados."
   ]
  },
  {
   "cell_type": "markdown",
   "metadata": {},
   "source": [
    "3. Aplica tu función al dataset de tweets y presenta los resultados de manera organizada."
   ]
  },
  {
   "cell_type": "markdown",
   "metadata": {},
   "source": [
    "4. Compara los tópicos identificados por el LLM con los resultados obtenidos en el taller anterior utilizando técnicas tradicionales de NLP. Discute las similitudes y diferencias."
   ]
  },
  {
   "cell_type": "markdown",
   "metadata": {},
   "source": [
    "## Parte 2: Traducción y Clasificación de Sentimientos en Poemas\n",
    "\n",
    "En esta sección, utilizaremos un LLM para traducir poemas del inglés al español y luego clasificar su sentimiento."
   ]
  },
  {
   "cell_type": "markdown",
   "metadata": {},
   "source": [
    "1. Carga el dataset \"google-research-datasets/poem_sentiment\"."
   ]
  },
  {
   "cell_type": "markdown",
   "metadata": {},
   "source": [
    "2. Implementa una función que utilice la API de Groq para:\n",
    "\n",
    "   a) Traducir cada poema del inglés al español.\n",
    "\n",
    "   b) Clasificar el sentimiento del poema traducido.\n",
    "\n",
    "   Tu función debe:\n",
    "   \n",
    "   - Tomar como entrada un poema en inglés.\n",
    "   - Utilizar prompts adecuados para las tareas de traducción y clasificación de sentimientos.\n",
    "   - Devolver el poema traducido y su clasificación de sentimiento.\n",
    "\n",
    "   Nota: pueden ser dos procesos encadenados (chain) o un solo prompt para las dos tareas. ¿Cual sera mejor?"
   ]
  },
  {
   "cell_type": "markdown",
   "metadata": {},
   "source": [
    "3. Aplica tu función al dataset de poemas y presenta los resultados de manera estructurada, incluyendo:\n",
    "   - El poema original en inglés\n",
    "   - La traducción al español\n",
    "   - La clasificación de sentimiento\n",
    "\n",
    "Nota: dadas las limitaciones de lo gratuito de groq, solo tomen unos 100 tweets."
   ]
  },
  {
   "cell_type": "markdown",
   "metadata": {},
   "source": [
    "4. Evalúa la precisión de la clasificación de sentimientos comparando los resultados del LLM con las etiquetas originales del dataset. Presenta métricas de evaluación como precisión, recall y F1-score."
   ]
  },
  {
   "cell_type": "markdown",
   "metadata": {},
   "source": [
    "5. Compara los resultados obtenidos con el LLM con los del taller anterior que utilizaba técnicas tradicionales de NLP. Discute las ventajas y desventajas de cada enfoque."
   ]
  },
  {
   "cell_type": "markdown",
   "metadata": {},
   "source": [
    "\n",
    "## Entrega\n",
    "\n",
    "Prepara un informe que incluya:\n",
    "- El código implementado para ambas partes del taller.\n",
    "- Los resultados obtenidos, presentados de manera clara y estructurada.\n",
    "- Un análisis comparativo entre los resultados obtenidos con LLMs y los métodos tradicionales de NLP utilizados en talleres anteriores.\n",
    "- Una discusión sobre las implicaciones del uso de LLMs para estas tareas, considerando aspectos como precisión, eficiencia y escalabilidad.\n",
    "\n",
    "Asegúrate de documentar adecuadamente tu código y explicar tus decisiones en cuanto a la elección de prompts y la interpretación de los resultados del LLM."
   ]
  },
  {
   "cell_type": "markdown",
   "metadata": {},
   "source": []
  }
 ],
 "metadata": {
  "language_info": {
   "name": "python"
  }
 },
 "nbformat": 4,
 "nbformat_minor": 2
}
