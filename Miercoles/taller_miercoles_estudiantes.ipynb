{
  "cells": [
    {
      "cell_type": "markdown",
      "metadata": {
        "id": "_GnIPbZeWSgf"
      },
      "source": [
        "# Taller Introductorio de Transformers:\n",
        "#### Traducción y Clasificación de Sentimientos en Poemas"
      ]
    },
    {
      "cell_type": "code",
      "execution_count": null,
      "metadata": {
        "id": "ZflxBzr0Wa0x"
      },
      "outputs": [],
      "source": [
        "# ejecutar esto en colab\n",
        "pip install datasets\n",
        "pip install accelerate -U"
      ]
    },
    {
      "cell_type": "code",
      "execution_count": 1,
      "metadata": {
        "id": "YPtSDi2xWSgg"
      },
      "outputs": [],
      "source": [
        "from datasets import load_dataset\n",
        "from transformers import pipeline, AutoTokenizer, AutoModel, AutoModelForSequenceClassification, TrainingArguments, Trainer\n",
        "import torch\n",
        "import numpy as np\n",
        "import pandas as pd\n",
        "from sklearn.model_selection import train_test_split\n",
        "from sklearn.linear_model import LogisticRegression\n",
        "from sklearn.dummy import DummyClassifier\n",
        "from sklearn.metrics import accuracy_score, classification_report"
      ]
    },
    {
      "cell_type": "markdown",
      "metadata": {
        "id": "a9otnvZgWSgh"
      },
      "source": [
        "\n",
        "## Objetivo\n",
        "En este taller práctico, aplicaremos los conocimientos adquiridos sobre transformers para realizar una tarea completa de procesamiento de lenguaje natural. Comenzaremos con la traducción de poemas del inglés al español y luego realizaremos una clasificación de sentimientos utilizando modelos pre-entrenados en español.\n",
        "\n",
        "## Requisitos previos\n",
        "- Conocimientos básicos de Python y PyTorch\n",
        "- Familiaridad con los conceptos de transformers y procesamiento de lenguaje natural\n",
        "- Haber revisado el contenido de los scripts de introducción proporcionados\n",
        "\n",
        "## Parte 1: Carga y Traducción del Dataset (1 hora)\n",
        "\n",
        "### 1.1 Cargar el dataset de sentimientos de poemas desde Hugging Face\n",
        "\n",
        "Cargue el dataset \"google-research-datasets/poem_sentiment\" utilizando la función `load_dataset` de la biblioteca `datasets`. Explore el contenido del dataset imprimiendo su información general y el primer elemento. Analice la estructura de los datos y discuta qué tipo de información contiene este dataset."
      ]
    },
    {
      "cell_type": "markdown",
      "metadata": {
        "id": "qU6L9FMlWSgh"
      },
      "source": [
        "\n",
        "## Requisitos previos\n",
        "- Conocimientos básicos de Python y PyTorch\n",
        "- Familiaridad con los conceptos de transformers y procesamiento de lenguaje natural\n",
        "- Haber revisado el contenido de los scripts de introducción proporcionados\n",
        "\n",
        "## Parte 1: Carga y Traducción del Dataset (1 hora)\n",
        "\n",
        "### 1.1 Cargar el dataset de sentimientos de poemas desde Hugging Face\n",
        "\n",
        "Cargue el dataset `google-research-datasets/poem_sentiment` utilizando la función `load_dataset` de la biblioteca `datasets`. Explore el contenido del dataset imprimiendo su información general y el primer elemento. Analice la estructura de los datos y discuta qué tipo de información contiene este dataset."
      ]
    },
    {
      "cell_type": "code",
      "execution_count": null,
      "metadata": {
        "colab": {
          "base_uri": "https://localhost:8080/"
        },
        "id": "_pyKdyYqWSgh",
        "outputId": "ed9c25a5-f767-43c1-d1f8-7198c571c433"
      },
      "outputs": [],
      "source": [
        "# Cargar el dataset\n",
        "# COLOCAR AQUI EL CODIGO"
      ]
    },
    {
      "cell_type": "code",
      "execution_count": null,
      "metadata": {},
      "outputs": [],
      "source": [
        "\n",
        "# Mostrar información del dataset\n",
        "print(dataset)\n",
        "print(dataset['train'][0])\n",
        "\n",
        "# Analizar la distribución de sentimientos\n",
        "sentiment_distribution = dataset['train'].map(lambda x: {'label': x['label']}, batched=True, batch_size=1000) # Return a dictionary\n",
        "# Convert the 'label' column to a Pandas Series to use value_counts()\n",
        "print(pd.Series(sentiment_distribution['label']).value_counts())\n"
      ]
    },
    {
      "cell_type": "markdown",
      "metadata": {
        "id": "gbNG5MHmWSgh"
      },
      "source": [
        "### 1.2 Traducir los poemas del inglés al español\n",
        "\n",
        "Utilice el modelo de traducción \"Helsinki-NLP/opus-mt-en-es\" para traducir los poemas del dataset del inglés al español. Cree una función que traduzca un texto dado y aplíquela a todo el dataset utilizando el método `map`. Compare algunos ejemplos de poemas originales con sus traducciones y discuta la calidad de la traducción, considerando especialmente cómo se mantienen (o no) los elementos poéticos.\n"
      ]
    },
    {
      "cell_type": "code",
      "execution_count": null,
      "metadata": {
        "id": "kmSl8F3_Z1Ir"
      },
      "outputs": [],
      "source": [
        "import torch\n",
        "from transformers import pipeline\n",
        "\n",
        "# Crear el pipeline de traducción usando GPU si está disponible Y cargar el pipeline de translation en gpu\n",
        "device = \"cuda\" if torch.cuda.is_available() else \"cpu\"\n",
        "translator = # COLOCAR AQUI EL CODIGO\n",
        "\n",
        "# Función para traducir un lote de textos\n",
        "def translate_text(examples):\n",
        "    translations = translator(examples['verse_text'], max_length=512, batch_size=32)\n",
        "    return {\"translated_poem\": [t['translation_text'] for t in translations]}\n",
        "\n",
        "# Aplicar la traducción al dataset\n",
        "translated_dataset = dataset['train'].map(translate_text, batched=True, batch_size=32)\n"
      ]
    },
    {
      "cell_type": "code",
      "execution_count": 13,
      "metadata": {
        "colab": {
          "base_uri": "https://localhost:8080/"
        },
        "id": "GtoiKNVdaKEb",
        "outputId": "bbe84395-41a2-416d-db67-ee3a524e301d"
      },
      "outputs": [
        {
          "name": "stdout",
          "output_type": "stream",
          "text": [
            "Poema original: with pale blue berries. in these peaceful shades--\n",
            "Poema traducido: con bayas azules pálidas. en estos tonos pacíficos...\n",
            "Sentimiento: 1\n"
          ]
        }
      ],
      "source": [
        "# Mostrar un ejemplo de poema original y traducido\n",
        "print(\"Poema original:\", dataset['train'][0]['verse_text'])\n",
        "print(\"Poema traducido:\", translated_dataset[0]['translated_poem'])\n",
        "print(\"Sentimiento:\", dataset['train'][0]['label'])"
      ]
    },
    {
      "cell_type": "code",
      "execution_count": null,
      "metadata": {
        "colab": {
          "base_uri": "https://localhost:8080/"
        },
        "id": "0G5JfDcLahSV",
        "outputId": "9b7778ee-cf94-49bf-e37c-4d18137034da"
      },
      "outputs": [],
      "source": [
        "\n",
        "# # Guardar el dataset traducido\n",
        "# # translated_dataset.save_to_disk(\"./translated_poem_sentiment\")\n",
        "\n",
        "# print(\"Dataset traducido guardado en ./translated_poem_sentiment\")\n",
        "\n",
        "# # Para verificar, cargar un ejemplo del dataset guardado\n",
        "# from datasets import load_from_disk\n",
        "\n",
        "# translated_dataset = load_from_disk(\"./translated_poem_sentiment\")\n",
        "# print(\"Ejemplo del dataset guardado:\")\n",
        "# # print(\"Poema original:\", dataset['train'][0]['verse_text'])\n",
        "# print(\"Poema traducido:\", translated_dataset[0]['translated_poem'])\n",
        "# print(\"Sentimiento:\", translated_dataset[0]['label'])"
      ]
    },
    {
      "cell_type": "markdown",
      "metadata": {
        "id": "3aZAdEQ0WSgh"
      },
      "source": [
        "## Parte 2: Clasificación de Sentimientos en Poemas Traducidos (2 horas)\n",
        "\n",
        "### 2.1 Preparar el dataset para clasificación\n",
        "\n",
        "Prepare el dataset traducido para la tarea de clasificación de sentimientos. Asegúrese de que las etiquetas de sentimiento estén en un formato adecuado para el entrenamiento (por ejemplo, convertidas a valores numéricos). Analice la distribución de las etiquetas de sentimiento y discuta cómo esto podría afectar el entrenamiento de un modelo de clasificación.\n"
      ]
    },
    {
      "cell_type": "code",
      "execution_count": null,
      "metadata": {
        "colab": {
          "base_uri": "https://localhost:8080/",
          "height": 189,
          "referenced_widgets": [
            "a7473c777c744d8ab741a00b5fb2a963",
            "e9ab40c95f2749bb9bba6d0325a5b1e9",
            "aeb681989a8a4d22887c08d77c76c138",
            "84628188faf64bc380d1cb4f6d902ec8",
            "6c8fb589972d40b286f8f128d470015f",
            "7751197ba9594f309280503717ecb748",
            "1d4d577bbe1c45f3b95c4f5ea6b1df91",
            "0c82af71272640dfaae865789b62e47b",
            "eb9acd27c5ae468c9765b35f9c741ead",
            "2431a0afcbe1482e9486f0b27aa99fbd",
            "e8b6b597627b48cdb8eb0ac606ed5ef2",
            "74d38e59ba904e7ba0a4cbfc7b49afc4",
            "1c21a8a8fd8e4482a7a2eea7553301a8",
            "ef655dc72fd34895902d6c443272e3a1",
            "ad62775456724cfc824fd3b145b5fae8",
            "da0ceac8b0644e10a574848f6c22fec7",
            "53c2c72d45794069b35970d2c7dc3e70",
            "6c72e68566e0485c822faa4b30721613",
            "98aefe9c22304c8a80faea10abdd4124",
            "9ad1735c60bd49e1b6529fe4ff0707e1",
            "bdcc6b7ec3564185aef04dc257c01f7b",
            "1f9724fccdde48f490b1deb76e9c7825"
          ]
        },
        "id": "fFQZ6qiwbenW",
        "outputId": "9643d34a-d91b-4a22-cb4c-8add7d11b061"
      },
      "outputs": [],
      "source": [
        "# Convertir etiquetas de sentimiento a valores numéricos, \n",
        "sentiment_map = # COLOCAR AQUI EL CODIGO # {\"negative\": 0, ...}\n",
        "\n",
        "def prepare_for_classification(example):\n",
        "    # Handle cases where 'label' is already an integer\n",
        "    label_value = sentiment_map.get(example['label'], example['label'])\n",
        "    return {\n",
        "        \"text\": example['translated_poem'],\n",
        "        \"label\": label_value\n",
        "    }\n",
        "\n",
        "classified_dataset = translated_dataset.map(prepare_for_classification)\n",
        "\n",
        "# Analizar la distribución de etiquetas\n",
        "label_distribution = classified_dataset.map(lambda x: {\"label\": x['label']})\n",
        "\n",
        "# Convert the Dataset to a Pandas DataFrame to use value_counts()\n",
        "# COLOCAR AQUI EL CODIGO"
      ]
    },
    {
      "cell_type": "markdown",
      "metadata": {
        "id": "rHAIUqiGWSgi"
      },
      "source": [
        "### 2.2 Extracción de características usando un modelo pre-entrenado en español\n",
        "\n",
        "Utilice el modelo \"dccuchile/bert-base-spanish-wwm-uncased\" para extraer características de los poemas traducidos. Cree una función que tome un lote de textos, los tokenice y pase por el modelo para obtener los embeddings de la última capa oculta. Aplique esta función a todo el dataset y analice la forma y el contenido de las características extraídas.\n"
      ]
    },
    {
      "cell_type": "code",
      "execution_count": null,
      "metadata": {
        "id": "rtqmFbJtiih_"
      },
      "outputs": [],
      "source": [
        "# Cargar el tokenizador y el modelo\n",
        "tokenizer = # COLOCAR AQUI EL CODIGO\n",
        "model = # COLOCAR AQUI EL CODIGO\n"
      ]
    },
    {
      "cell_type": "code",
      "execution_count": null,
      "metadata": {
        "colab": {
          "base_uri": "https://localhost:8080/",
          "height": 105,
          "referenced_widgets": [
            "6a9b499dce8f43b9893877434339692d",
            "01168b15dc4b4a019b50206837369d4f",
            "fe7ffa2855c243e891b04393ae75dcc7",
            "8c876785cb9f4103855bd67e478143c5",
            "1acb3356ca8d4bf9b59ab94fcff398ae",
            "4b2770ac4e2d4217857b0b0c3e8bcba4",
            "faebb780f2b545aa876e250110126d2f",
            "8642913f462f41efba101b4291250db9",
            "1180d0e9511446dbb96561d96c2fab32",
            "e932a2bf27454286a767481043cc3e0d",
            "097d6d76f1b84b48bcbfe1f72ada88db"
          ]
        },
        "id": "9j5TLvDVWSgi",
        "outputId": "2d8ada43-f56d-48ae-f8cd-be55e2a527a6"
      },
      "outputs": [],
      "source": [
        "\n",
        "# Función para extraer características\n",
        "def extract_features(batch):\n",
        "    inputs = # COLOCAR AQUI EL CODIGO\n",
        "    with torch.no_grad():\n",
        "        outputs = model(**inputs)\n",
        "    return {\"features\": outputs.last_hidden_state[:, 0, :].numpy()}\n",
        "\n",
        "# Extraer características\n",
        "dataset_with_features = # COLOCAR AQUI EL CODIGO con .. classified_dataset.map()\n"
      ]
    },
    {
      "cell_type": "code",
      "execution_count": null,
      "metadata": {
        "colab": {
          "base_uri": "https://localhost:8080/"
        },
        "id": "iNvfsVS9dfnJ",
        "outputId": "d2641950-5e29-4faf-b111-3c2de1657925"
      },
      "outputs": [],
      "source": [
        "\n",
        "# Analizar las características extraídas\n",
        "print(\"Forma de las características:\", np.array(dataset_with_features[0]['features']).shape)\n",
        "print(\"Primeros 5 valores de las características:\", dataset_with_features[0]['features'][:5])"
      ]
    },
    {
      "cell_type": "markdown",
      "metadata": {
        "id": "wiGGKPtYWSgi"
      },
      "source": [
        "### 2.3 Entrenar un clasificador simple usando las características extraídas\n",
        "\n",
        "Utilice las características extraídas para entrenar un clasificador de regresión logística multiclase. Divida el dataset en conjuntos de entrenamiento y prueba. Entrene el modelo en el conjunto de entrenamiento y evalúe su rendimiento en el conjunto de prueba. Analice los resultados obtenidos, incluyendo la exactitud (accuracy), matriz de confusión y classification report. Compare estos resultados con un clasificador dummy que siempre predice la clase más frecuente."
      ]
    },
    {
      "cell_type": "code",
      "execution_count": null,
      "metadata": {
        "colab": {
          "base_uri": "https://localhost:8080/"
        },
        "id": "nEip17KCWSgi",
        "outputId": "e05472d1-29ef-4b54-e4d2-2828650cd7a6"
      },
      "outputs": [],
      "source": [
        "# Preparar los datos\n",
        "X = dataset_with_features[\"features\"]\n",
        "y = dataset_with_features[\"label\"]\n",
        "\n",
        "# Dividir en conjuntos de entrenamiento y prueba\n",
        "X_train, X_test, y_train, y_test = train_test_split(X, y, test_size=0.2, random_state=42)\n",
        "\n",
        "# Entrenar el clasificador\n",
        "# COLOCAR AQUI EL CODIGO\n",
        "\n",
        "# Evaluar el clasificador\n",
        "# COLOCAR AQUI EL CODIGO\n"
      ]
    },
    {
      "cell_type": "code",
      "execution_count": null,
      "metadata": {},
      "outputs": [],
      "source": [
        "\n",
        "print(\"Accuracy:\", accuracy_score(y_test, y_pred))\n",
        "print(\"\\nClassification Report:\")\n",
        "print(classification_report(y_test, y_pred, target_names=[\"negativo\", \"neutral\", \"positivo\", \"mixed\"]))"
      ]
    },
    {
      "cell_type": "code",
      "execution_count": null,
      "metadata": {
        "colab": {
          "base_uri": "https://localhost:8080/"
        },
        "id": "f_38VvugWSgi",
        "outputId": "7c053ede-3259-4f0e-a790-05dd8e5161bd"
      },
      "outputs": [],
      "source": [
        "# Comparar con un clasificador dummy\n",
        "dummy_clf = # COLOCAR AQUI EL CODIGO\n",
        "dummy_clf.fit(X_train, y_train)\n",
        "dummy_pred = # COLOCAR AQUI EL CODIGO\n",
        "print(\"\\nDummy Classifier Accuracy:\", accuracy_score(y_test, dummy_pred))"
      ]
    },
    {
      "cell_type": "markdown",
      "metadata": {
        "id": "4fe2JiycWSgi"
      },
      "source": [
        "### 2.4 Fine-tuning de un modelo pre-entrenado en español para clasificación de sentimientos\n",
        "\n",
        "Utilice el modelo \"dccuchile/bert-base-spanish-wwm-uncased\" como base para realizar un fine-tuning para nuestra tarea de clasificación de sentimientos en poemas. Configure los hiperparámetros de entrenamiento, incluyendo el número de épocas, el tamaño del lote y la tasa de aprendizaje. Entrene el modelo utilizando la clase `Trainer` de Hugging Face. Evalúe el modelo fine-tuned en el conjunto de validación y compare sus resultados con los obtenidos en el paso anterior. Discuta las ventajas y desventajas de este enfoque en comparación con el uso de características extraídas."
      ]
    },
    {
      "cell_type": "code",
      "execution_count": null,
      "metadata": {
        "colab": {
          "base_uri": "https://localhost:8080/",
          "height": 49,
          "referenced_widgets": [
            "2ebbe38e289d4b0b8489f401506c72c7",
            "bab08be480174a42a97461631a7d4bda",
            "4b018685352b46fc8c5baae3687cebc0",
            "38f2dea1101d4b3a9ba825f9922d3997",
            "85ecdb68f9c94cebb065b8fda02c350f",
            "7466545c4b8b476d8066d819005996c8",
            "e129dd3ccbd847f2b430ce51b9359bd7",
            "d695ac3569bc4be2b82876463922faf9",
            "cb38319dbd9c4da5b870a41108c8dc5f",
            "7b4ea5c0e00d420a80ace4ea1ce932b3",
            "e67c9b95b0254093a80dbbff9bd9f084"
          ]
        },
        "id": "V43wFFvIWSgi",
        "outputId": "af29e6ac-23f2-41a2-b009-32d6742036e6"
      },
      "outputs": [],
      "source": [
        "# Preparar el dataset para fine-tuning\n",
        "def tokenize_function(examples):\n",
        "    return # COLOCAR AQUI EL CODIGO with tokenizer(parametros)\n",
        "\n",
        "tokenized_dataset = classified_dataset.map(tokenize_function, batched=True)\n",
        "tokenized_dataset = tokenized_dataset.remove_columns([\"id\", \"verse_text\", \"translated_poem\"])\n",
        "tokenized_dataset = tokenized_dataset.rename_column(\"label\", \"labels\")\n",
        "tokenized_dataset = tokenized_dataset.with_format(\"torch\")\n",
        "\n",
        "# Dividir el dataset\n",
        "train_dataset = tokenized_dataset.shuffle(seed=42).select(range(int(len(tokenized_dataset)*0.8)))\n",
        "eval_dataset = tokenized_dataset.shuffle(seed=42).select(range(int(len(tokenized_dataset)*0.8), len(tokenized_dataset)))"
      ]
    },
    {
      "cell_type": "code",
      "execution_count": 9,
      "metadata": {
        "colab": {
          "base_uri": "https://localhost:8080/"
        },
        "id": "LIXd4E7PWSgi",
        "outputId": "0cbf3af3-761c-4aad-fdf1-5a76e641a0a2"
      },
      "outputs": [
        {
          "name": "stderr",
          "output_type": "stream",
          "text": [
            "Some weights of BertForSequenceClassification were not initialized from the model checkpoint at dccuchile/bert-base-spanish-wwm-uncased and are newly initialized: ['bert.pooler.dense.bias', 'bert.pooler.dense.weight', 'classifier.bias', 'classifier.weight']\n",
            "You should probably TRAIN this model on a down-stream task to be able to use it for predictions and inference.\n"
          ]
        }
      ],
      "source": [
        "# Cargar el modelo para fine-tuning\n",
        "model = # COLOCAR AQUI EL CODIGO"
      ]
    },
    {
      "cell_type": "code",
      "execution_count": 10,
      "metadata": {
        "id": "3--W5iYgWSgi"
      },
      "outputs": [],
      "source": [
        "# Configurar el entrenamiento\n",
        "training_args = TrainingArguments(\n",
        "    output_dir=\"./results\",\n",
        "    num_train_epochs=3,\n",
        "    per_device_train_batch_size=16,\n",
        "    per_device_eval_batch_size=64,\n",
        "    warmup_steps=500,\n",
        "    weight_decay=0.01,\n",
        "    logging_dir=\"./logs\",\n",
        ")"
      ]
    },
    {
      "cell_type": "code",
      "execution_count": 11,
      "metadata": {
        "id": "qKXi7h9PWSgj"
      },
      "outputs": [],
      "source": [
        "# Crear el Trainer\n",
        "# COLOCAR AQUI EL CODIGO"
      ]
    },
    {
      "cell_type": "code",
      "execution_count": null,
      "metadata": {
        "colab": {
          "base_uri": "https://localhost:8080/",
          "height": 147
        },
        "id": "q_EUdra_WSgj",
        "outputId": "668748f3-6c8b-419e-f4f9-72fdfc5ccd63"
      },
      "outputs": [],
      "source": [
        "\n",
        "# Entrenar el modelo\n"
      ]
    },
    {
      "cell_type": "code",
      "execution_count": null,
      "metadata": {
        "colab": {
          "base_uri": "https://localhost:8080/",
          "height": 397
        },
        "id": "ZSWBJ-2QWSgj",
        "outputId": "3480301c-447f-4282-9724-c1da7d23bb71"
      },
      "outputs": [],
      "source": [
        "# Evaluar el modelo\n",
        "eval_results = trainer.evaluate()\n",
        "print(eval_results)\n"
      ]
    },
    {
      "cell_type": "code",
      "execution_count": null,
      "metadata": {},
      "outputs": [],
      "source": [
        "\n",
        "# Realizar predicciones con el modelo fine-tuned generando classification report (opcionalmente matriz de confusion)\n"
      ]
    },
    {
      "cell_type": "markdown",
      "metadata": {
        "id": "5hFlGAKHWSgj"
      },
      "source": [
        "## Conclusión y Discusión (15 minutos)\n",
        "\n",
        "Reflexione sobre los resultados obtenidos en las diferentes etapas del taller. Compare los enfoques de extracción de características y fine-tuning, discutiendo sus ventajas y desventajas en términos de rendimiento, tiempo de entrenamiento y recursos computacionales requeridos. Considere cómo estos métodos podrían aplicarse a problemas del mundo real relacionados con el análisis de sentimientos en textos literarios y qué modificaciones podrían ser necesarias para mejorar aún más los resultados.\n",
        "\n",
        "#### Preguntas para la discusión:\n",
        "1. ¿Cómo afectó la calidad de la traducción a los resultados de la clasificación de sentimientos en los poemas?\n",
        "2. ¿Qué desafíos específicos presenta la clasificación de sentimientos en poemas en comparación con textos más convencionales?\n",
        "3. ¿Qué enfoque (extracción de características vs. fine-tuning) funcionó mejor para esta tarea y por qué cree que fue así?\n",
        "4. ¿Cómo podríamos adaptar este modelo para analizar sentimientos en otros tipos de textos literarios, como cuentos cortos o letras de canciones?\n",
        "5. ¿Qué implicaciones éticas y culturales debemos considerar al utilizar modelos de IA para analizar y clasificar obras literarias?\n",
        "\n",
        "Este taller actualizado proporciona una experiencia práctica en el uso de transformers para tareas de procesamiento de lenguaje natural, enfocándose en la clasificación de sentimientos en poemas traducidos. Los estudiantes podrán aplicar los conocimientos adquiridos previamente, explorar nuevas técnicas en un contexto literario y reflexionar sobre las implicaciones de sus resultados en el análisis computacional de la literatura.\n"
      ]
    },
    {
      "cell_type": "markdown",
      "metadata": {
        "id": "T6OP5EyeWSgj"
      },
      "source": [
        "RESPONDER AQUI"
      ]
    },
    {
      "cell_type": "markdown",
      "metadata": {},
      "source": []
    }
  ],
  "metadata": {
    "accelerator": "GPU",
    "colab": {
      "gpuType": "T4",
      "provenance": []
    },
    "kernelspec": {
      "display_name": "Python 3",
      "name": "python3"
    },
    "language_info": {
      "name": "python"
    },
    "widgets": {
      "application/vnd.jupyter.widget-state+json": {
        "01168b15dc4b4a019b50206837369d4f": {
          "model_module": "@jupyter-widgets/controls",
          "model_module_version": "1.5.0",
          "model_name": "HTMLModel",
          "state": {
            "_dom_classes": [],
            "_model_module": "@jupyter-widgets/controls",
            "_model_module_version": "1.5.0",
            "_model_name": "HTMLModel",
            "_view_count": null,
            "_view_module": "@jupyter-widgets/controls",
            "_view_module_version": "1.5.0",
            "_view_name": "HTMLView",
            "description": "",
            "description_tooltip": null,
            "layout": "IPY_MODEL_4b2770ac4e2d4217857b0b0c3e8bcba4",
            "placeholder": "​",
            "style": "IPY_MODEL_faebb780f2b545aa876e250110126d2f",
            "value": "Map: 100%"
          }
        },
        "097d6d76f1b84b48bcbfe1f72ada88db": {
          "model_module": "@jupyter-widgets/controls",
          "model_module_version": "1.5.0",
          "model_name": "DescriptionStyleModel",
          "state": {
            "_model_module": "@jupyter-widgets/controls",
            "_model_module_version": "1.5.0",
            "_model_name": "DescriptionStyleModel",
            "_view_count": null,
            "_view_module": "@jupyter-widgets/base",
            "_view_module_version": "1.2.0",
            "_view_name": "StyleView",
            "description_width": ""
          }
        },
        "0c82af71272640dfaae865789b62e47b": {
          "model_module": "@jupyter-widgets/base",
          "model_module_version": "1.2.0",
          "model_name": "LayoutModel",
          "state": {
            "_model_module": "@jupyter-widgets/base",
            "_model_module_version": "1.2.0",
            "_model_name": "LayoutModel",
            "_view_count": null,
            "_view_module": "@jupyter-widgets/base",
            "_view_module_version": "1.2.0",
            "_view_name": "LayoutView",
            "align_content": null,
            "align_items": null,
            "align_self": null,
            "border": null,
            "bottom": null,
            "display": null,
            "flex": null,
            "flex_flow": null,
            "grid_area": null,
            "grid_auto_columns": null,
            "grid_auto_flow": null,
            "grid_auto_rows": null,
            "grid_column": null,
            "grid_gap": null,
            "grid_row": null,
            "grid_template_areas": null,
            "grid_template_columns": null,
            "grid_template_rows": null,
            "height": null,
            "justify_content": null,
            "justify_items": null,
            "left": null,
            "margin": null,
            "max_height": null,
            "max_width": null,
            "min_height": null,
            "min_width": null,
            "object_fit": null,
            "object_position": null,
            "order": null,
            "overflow": null,
            "overflow_x": null,
            "overflow_y": null,
            "padding": null,
            "right": null,
            "top": null,
            "visibility": null,
            "width": null
          }
        },
        "1180d0e9511446dbb96561d96c2fab32": {
          "model_module": "@jupyter-widgets/controls",
          "model_module_version": "1.5.0",
          "model_name": "ProgressStyleModel",
          "state": {
            "_model_module": "@jupyter-widgets/controls",
            "_model_module_version": "1.5.0",
            "_model_name": "ProgressStyleModel",
            "_view_count": null,
            "_view_module": "@jupyter-widgets/base",
            "_view_module_version": "1.2.0",
            "_view_name": "StyleView",
            "bar_color": null,
            "description_width": ""
          }
        },
        "1acb3356ca8d4bf9b59ab94fcff398ae": {
          "model_module": "@jupyter-widgets/base",
          "model_module_version": "1.2.0",
          "model_name": "LayoutModel",
          "state": {
            "_model_module": "@jupyter-widgets/base",
            "_model_module_version": "1.2.0",
            "_model_name": "LayoutModel",
            "_view_count": null,
            "_view_module": "@jupyter-widgets/base",
            "_view_module_version": "1.2.0",
            "_view_name": "LayoutView",
            "align_content": null,
            "align_items": null,
            "align_self": null,
            "border": null,
            "bottom": null,
            "display": null,
            "flex": null,
            "flex_flow": null,
            "grid_area": null,
            "grid_auto_columns": null,
            "grid_auto_flow": null,
            "grid_auto_rows": null,
            "grid_column": null,
            "grid_gap": null,
            "grid_row": null,
            "grid_template_areas": null,
            "grid_template_columns": null,
            "grid_template_rows": null,
            "height": null,
            "justify_content": null,
            "justify_items": null,
            "left": null,
            "margin": null,
            "max_height": null,
            "max_width": null,
            "min_height": null,
            "min_width": null,
            "object_fit": null,
            "object_position": null,
            "order": null,
            "overflow": null,
            "overflow_x": null,
            "overflow_y": null,
            "padding": null,
            "right": null,
            "top": null,
            "visibility": null,
            "width": null
          }
        },
        "1c21a8a8fd8e4482a7a2eea7553301a8": {
          "model_module": "@jupyter-widgets/controls",
          "model_module_version": "1.5.0",
          "model_name": "HTMLModel",
          "state": {
            "_dom_classes": [],
            "_model_module": "@jupyter-widgets/controls",
            "_model_module_version": "1.5.0",
            "_model_name": "HTMLModel",
            "_view_count": null,
            "_view_module": "@jupyter-widgets/controls",
            "_view_module_version": "1.5.0",
            "_view_name": "HTMLView",
            "description": "",
            "description_tooltip": null,
            "layout": "IPY_MODEL_53c2c72d45794069b35970d2c7dc3e70",
            "placeholder": "​",
            "style": "IPY_MODEL_6c72e68566e0485c822faa4b30721613",
            "value": "Map: 100%"
          }
        },
        "1d4d577bbe1c45f3b95c4f5ea6b1df91": {
          "model_module": "@jupyter-widgets/controls",
          "model_module_version": "1.5.0",
          "model_name": "DescriptionStyleModel",
          "state": {
            "_model_module": "@jupyter-widgets/controls",
            "_model_module_version": "1.5.0",
            "_model_name": "DescriptionStyleModel",
            "_view_count": null,
            "_view_module": "@jupyter-widgets/base",
            "_view_module_version": "1.2.0",
            "_view_name": "StyleView",
            "description_width": ""
          }
        },
        "1f9724fccdde48f490b1deb76e9c7825": {
          "model_module": "@jupyter-widgets/controls",
          "model_module_version": "1.5.0",
          "model_name": "DescriptionStyleModel",
          "state": {
            "_model_module": "@jupyter-widgets/controls",
            "_model_module_version": "1.5.0",
            "_model_name": "DescriptionStyleModel",
            "_view_count": null,
            "_view_module": "@jupyter-widgets/base",
            "_view_module_version": "1.2.0",
            "_view_name": "StyleView",
            "description_width": ""
          }
        },
        "2431a0afcbe1482e9486f0b27aa99fbd": {
          "model_module": "@jupyter-widgets/base",
          "model_module_version": "1.2.0",
          "model_name": "LayoutModel",
          "state": {
            "_model_module": "@jupyter-widgets/base",
            "_model_module_version": "1.2.0",
            "_model_name": "LayoutModel",
            "_view_count": null,
            "_view_module": "@jupyter-widgets/base",
            "_view_module_version": "1.2.0",
            "_view_name": "LayoutView",
            "align_content": null,
            "align_items": null,
            "align_self": null,
            "border": null,
            "bottom": null,
            "display": null,
            "flex": null,
            "flex_flow": null,
            "grid_area": null,
            "grid_auto_columns": null,
            "grid_auto_flow": null,
            "grid_auto_rows": null,
            "grid_column": null,
            "grid_gap": null,
            "grid_row": null,
            "grid_template_areas": null,
            "grid_template_columns": null,
            "grid_template_rows": null,
            "height": null,
            "justify_content": null,
            "justify_items": null,
            "left": null,
            "margin": null,
            "max_height": null,
            "max_width": null,
            "min_height": null,
            "min_width": null,
            "object_fit": null,
            "object_position": null,
            "order": null,
            "overflow": null,
            "overflow_x": null,
            "overflow_y": null,
            "padding": null,
            "right": null,
            "top": null,
            "visibility": null,
            "width": null
          }
        },
        "2ebbe38e289d4b0b8489f401506c72c7": {
          "model_module": "@jupyter-widgets/controls",
          "model_module_version": "1.5.0",
          "model_name": "HBoxModel",
          "state": {
            "_dom_classes": [],
            "_model_module": "@jupyter-widgets/controls",
            "_model_module_version": "1.5.0",
            "_model_name": "HBoxModel",
            "_view_count": null,
            "_view_module": "@jupyter-widgets/controls",
            "_view_module_version": "1.5.0",
            "_view_name": "HBoxView",
            "box_style": "",
            "children": [
              "IPY_MODEL_bab08be480174a42a97461631a7d4bda",
              "IPY_MODEL_4b018685352b46fc8c5baae3687cebc0",
              "IPY_MODEL_38f2dea1101d4b3a9ba825f9922d3997"
            ],
            "layout": "IPY_MODEL_85ecdb68f9c94cebb065b8fda02c350f"
          }
        },
        "38f2dea1101d4b3a9ba825f9922d3997": {
          "model_module": "@jupyter-widgets/controls",
          "model_module_version": "1.5.0",
          "model_name": "HTMLModel",
          "state": {
            "_dom_classes": [],
            "_model_module": "@jupyter-widgets/controls",
            "_model_module_version": "1.5.0",
            "_model_name": "HTMLModel",
            "_view_count": null,
            "_view_module": "@jupyter-widgets/controls",
            "_view_module_version": "1.5.0",
            "_view_name": "HTMLView",
            "description": "",
            "description_tooltip": null,
            "layout": "IPY_MODEL_7b4ea5c0e00d420a80ace4ea1ce932b3",
            "placeholder": "​",
            "style": "IPY_MODEL_e67c9b95b0254093a80dbbff9bd9f084",
            "value": " 892/892 [00:00&lt;00:00, 2337.26 examples/s]"
          }
        },
        "4b018685352b46fc8c5baae3687cebc0": {
          "model_module": "@jupyter-widgets/controls",
          "model_module_version": "1.5.0",
          "model_name": "FloatProgressModel",
          "state": {
            "_dom_classes": [],
            "_model_module": "@jupyter-widgets/controls",
            "_model_module_version": "1.5.0",
            "_model_name": "FloatProgressModel",
            "_view_count": null,
            "_view_module": "@jupyter-widgets/controls",
            "_view_module_version": "1.5.0",
            "_view_name": "ProgressView",
            "bar_style": "success",
            "description": "",
            "description_tooltip": null,
            "layout": "IPY_MODEL_d695ac3569bc4be2b82876463922faf9",
            "max": 892,
            "min": 0,
            "orientation": "horizontal",
            "style": "IPY_MODEL_cb38319dbd9c4da5b870a41108c8dc5f",
            "value": 892
          }
        },
        "4b2770ac4e2d4217857b0b0c3e8bcba4": {
          "model_module": "@jupyter-widgets/base",
          "model_module_version": "1.2.0",
          "model_name": "LayoutModel",
          "state": {
            "_model_module": "@jupyter-widgets/base",
            "_model_module_version": "1.2.0",
            "_model_name": "LayoutModel",
            "_view_count": null,
            "_view_module": "@jupyter-widgets/base",
            "_view_module_version": "1.2.0",
            "_view_name": "LayoutView",
            "align_content": null,
            "align_items": null,
            "align_self": null,
            "border": null,
            "bottom": null,
            "display": null,
            "flex": null,
            "flex_flow": null,
            "grid_area": null,
            "grid_auto_columns": null,
            "grid_auto_flow": null,
            "grid_auto_rows": null,
            "grid_column": null,
            "grid_gap": null,
            "grid_row": null,
            "grid_template_areas": null,
            "grid_template_columns": null,
            "grid_template_rows": null,
            "height": null,
            "justify_content": null,
            "justify_items": null,
            "left": null,
            "margin": null,
            "max_height": null,
            "max_width": null,
            "min_height": null,
            "min_width": null,
            "object_fit": null,
            "object_position": null,
            "order": null,
            "overflow": null,
            "overflow_x": null,
            "overflow_y": null,
            "padding": null,
            "right": null,
            "top": null,
            "visibility": null,
            "width": null
          }
        },
        "53c2c72d45794069b35970d2c7dc3e70": {
          "model_module": "@jupyter-widgets/base",
          "model_module_version": "1.2.0",
          "model_name": "LayoutModel",
          "state": {
            "_model_module": "@jupyter-widgets/base",
            "_model_module_version": "1.2.0",
            "_model_name": "LayoutModel",
            "_view_count": null,
            "_view_module": "@jupyter-widgets/base",
            "_view_module_version": "1.2.0",
            "_view_name": "LayoutView",
            "align_content": null,
            "align_items": null,
            "align_self": null,
            "border": null,
            "bottom": null,
            "display": null,
            "flex": null,
            "flex_flow": null,
            "grid_area": null,
            "grid_auto_columns": null,
            "grid_auto_flow": null,
            "grid_auto_rows": null,
            "grid_column": null,
            "grid_gap": null,
            "grid_row": null,
            "grid_template_areas": null,
            "grid_template_columns": null,
            "grid_template_rows": null,
            "height": null,
            "justify_content": null,
            "justify_items": null,
            "left": null,
            "margin": null,
            "max_height": null,
            "max_width": null,
            "min_height": null,
            "min_width": null,
            "object_fit": null,
            "object_position": null,
            "order": null,
            "overflow": null,
            "overflow_x": null,
            "overflow_y": null,
            "padding": null,
            "right": null,
            "top": null,
            "visibility": null,
            "width": null
          }
        },
        "6a9b499dce8f43b9893877434339692d": {
          "model_module": "@jupyter-widgets/controls",
          "model_module_version": "1.5.0",
          "model_name": "HBoxModel",
          "state": {
            "_dom_classes": [],
            "_model_module": "@jupyter-widgets/controls",
            "_model_module_version": "1.5.0",
            "_model_name": "HBoxModel",
            "_view_count": null,
            "_view_module": "@jupyter-widgets/controls",
            "_view_module_version": "1.5.0",
            "_view_name": "HBoxView",
            "box_style": "",
            "children": [
              "IPY_MODEL_01168b15dc4b4a019b50206837369d4f",
              "IPY_MODEL_fe7ffa2855c243e891b04393ae75dcc7",
              "IPY_MODEL_8c876785cb9f4103855bd67e478143c5"
            ],
            "layout": "IPY_MODEL_1acb3356ca8d4bf9b59ab94fcff398ae"
          }
        },
        "6c72e68566e0485c822faa4b30721613": {
          "model_module": "@jupyter-widgets/controls",
          "model_module_version": "1.5.0",
          "model_name": "DescriptionStyleModel",
          "state": {
            "_model_module": "@jupyter-widgets/controls",
            "_model_module_version": "1.5.0",
            "_model_name": "DescriptionStyleModel",
            "_view_count": null,
            "_view_module": "@jupyter-widgets/base",
            "_view_module_version": "1.2.0",
            "_view_name": "StyleView",
            "description_width": ""
          }
        },
        "6c8fb589972d40b286f8f128d470015f": {
          "model_module": "@jupyter-widgets/base",
          "model_module_version": "1.2.0",
          "model_name": "LayoutModel",
          "state": {
            "_model_module": "@jupyter-widgets/base",
            "_model_module_version": "1.2.0",
            "_model_name": "LayoutModel",
            "_view_count": null,
            "_view_module": "@jupyter-widgets/base",
            "_view_module_version": "1.2.0",
            "_view_name": "LayoutView",
            "align_content": null,
            "align_items": null,
            "align_self": null,
            "border": null,
            "bottom": null,
            "display": null,
            "flex": null,
            "flex_flow": null,
            "grid_area": null,
            "grid_auto_columns": null,
            "grid_auto_flow": null,
            "grid_auto_rows": null,
            "grid_column": null,
            "grid_gap": null,
            "grid_row": null,
            "grid_template_areas": null,
            "grid_template_columns": null,
            "grid_template_rows": null,
            "height": null,
            "justify_content": null,
            "justify_items": null,
            "left": null,
            "margin": null,
            "max_height": null,
            "max_width": null,
            "min_height": null,
            "min_width": null,
            "object_fit": null,
            "object_position": null,
            "order": null,
            "overflow": null,
            "overflow_x": null,
            "overflow_y": null,
            "padding": null,
            "right": null,
            "top": null,
            "visibility": null,
            "width": null
          }
        },
        "7466545c4b8b476d8066d819005996c8": {
          "model_module": "@jupyter-widgets/base",
          "model_module_version": "1.2.0",
          "model_name": "LayoutModel",
          "state": {
            "_model_module": "@jupyter-widgets/base",
            "_model_module_version": "1.2.0",
            "_model_name": "LayoutModel",
            "_view_count": null,
            "_view_module": "@jupyter-widgets/base",
            "_view_module_version": "1.2.0",
            "_view_name": "LayoutView",
            "align_content": null,
            "align_items": null,
            "align_self": null,
            "border": null,
            "bottom": null,
            "display": null,
            "flex": null,
            "flex_flow": null,
            "grid_area": null,
            "grid_auto_columns": null,
            "grid_auto_flow": null,
            "grid_auto_rows": null,
            "grid_column": null,
            "grid_gap": null,
            "grid_row": null,
            "grid_template_areas": null,
            "grid_template_columns": null,
            "grid_template_rows": null,
            "height": null,
            "justify_content": null,
            "justify_items": null,
            "left": null,
            "margin": null,
            "max_height": null,
            "max_width": null,
            "min_height": null,
            "min_width": null,
            "object_fit": null,
            "object_position": null,
            "order": null,
            "overflow": null,
            "overflow_x": null,
            "overflow_y": null,
            "padding": null,
            "right": null,
            "top": null,
            "visibility": null,
            "width": null
          }
        },
        "74d38e59ba904e7ba0a4cbfc7b49afc4": {
          "model_module": "@jupyter-widgets/controls",
          "model_module_version": "1.5.0",
          "model_name": "HBoxModel",
          "state": {
            "_dom_classes": [],
            "_model_module": "@jupyter-widgets/controls",
            "_model_module_version": "1.5.0",
            "_model_name": "HBoxModel",
            "_view_count": null,
            "_view_module": "@jupyter-widgets/controls",
            "_view_module_version": "1.5.0",
            "_view_name": "HBoxView",
            "box_style": "",
            "children": [
              "IPY_MODEL_1c21a8a8fd8e4482a7a2eea7553301a8",
              "IPY_MODEL_ef655dc72fd34895902d6c443272e3a1",
              "IPY_MODEL_ad62775456724cfc824fd3b145b5fae8"
            ],
            "layout": "IPY_MODEL_da0ceac8b0644e10a574848f6c22fec7"
          }
        },
        "7751197ba9594f309280503717ecb748": {
          "model_module": "@jupyter-widgets/base",
          "model_module_version": "1.2.0",
          "model_name": "LayoutModel",
          "state": {
            "_model_module": "@jupyter-widgets/base",
            "_model_module_version": "1.2.0",
            "_model_name": "LayoutModel",
            "_view_count": null,
            "_view_module": "@jupyter-widgets/base",
            "_view_module_version": "1.2.0",
            "_view_name": "LayoutView",
            "align_content": null,
            "align_items": null,
            "align_self": null,
            "border": null,
            "bottom": null,
            "display": null,
            "flex": null,
            "flex_flow": null,
            "grid_area": null,
            "grid_auto_columns": null,
            "grid_auto_flow": null,
            "grid_auto_rows": null,
            "grid_column": null,
            "grid_gap": null,
            "grid_row": null,
            "grid_template_areas": null,
            "grid_template_columns": null,
            "grid_template_rows": null,
            "height": null,
            "justify_content": null,
            "justify_items": null,
            "left": null,
            "margin": null,
            "max_height": null,
            "max_width": null,
            "min_height": null,
            "min_width": null,
            "object_fit": null,
            "object_position": null,
            "order": null,
            "overflow": null,
            "overflow_x": null,
            "overflow_y": null,
            "padding": null,
            "right": null,
            "top": null,
            "visibility": null,
            "width": null
          }
        },
        "7b4ea5c0e00d420a80ace4ea1ce932b3": {
          "model_module": "@jupyter-widgets/base",
          "model_module_version": "1.2.0",
          "model_name": "LayoutModel",
          "state": {
            "_model_module": "@jupyter-widgets/base",
            "_model_module_version": "1.2.0",
            "_model_name": "LayoutModel",
            "_view_count": null,
            "_view_module": "@jupyter-widgets/base",
            "_view_module_version": "1.2.0",
            "_view_name": "LayoutView",
            "align_content": null,
            "align_items": null,
            "align_self": null,
            "border": null,
            "bottom": null,
            "display": null,
            "flex": null,
            "flex_flow": null,
            "grid_area": null,
            "grid_auto_columns": null,
            "grid_auto_flow": null,
            "grid_auto_rows": null,
            "grid_column": null,
            "grid_gap": null,
            "grid_row": null,
            "grid_template_areas": null,
            "grid_template_columns": null,
            "grid_template_rows": null,
            "height": null,
            "justify_content": null,
            "justify_items": null,
            "left": null,
            "margin": null,
            "max_height": null,
            "max_width": null,
            "min_height": null,
            "min_width": null,
            "object_fit": null,
            "object_position": null,
            "order": null,
            "overflow": null,
            "overflow_x": null,
            "overflow_y": null,
            "padding": null,
            "right": null,
            "top": null,
            "visibility": null,
            "width": null
          }
        },
        "84628188faf64bc380d1cb4f6d902ec8": {
          "model_module": "@jupyter-widgets/controls",
          "model_module_version": "1.5.0",
          "model_name": "HTMLModel",
          "state": {
            "_dom_classes": [],
            "_model_module": "@jupyter-widgets/controls",
            "_model_module_version": "1.5.0",
            "_model_name": "HTMLModel",
            "_view_count": null,
            "_view_module": "@jupyter-widgets/controls",
            "_view_module_version": "1.5.0",
            "_view_name": "HTMLView",
            "description": "",
            "description_tooltip": null,
            "layout": "IPY_MODEL_2431a0afcbe1482e9486f0b27aa99fbd",
            "placeholder": "​",
            "style": "IPY_MODEL_e8b6b597627b48cdb8eb0ac606ed5ef2",
            "value": " 892/892 [00:00&lt;00:00, 4316.74 examples/s]"
          }
        },
        "85ecdb68f9c94cebb065b8fda02c350f": {
          "model_module": "@jupyter-widgets/base",
          "model_module_version": "1.2.0",
          "model_name": "LayoutModel",
          "state": {
            "_model_module": "@jupyter-widgets/base",
            "_model_module_version": "1.2.0",
            "_model_name": "LayoutModel",
            "_view_count": null,
            "_view_module": "@jupyter-widgets/base",
            "_view_module_version": "1.2.0",
            "_view_name": "LayoutView",
            "align_content": null,
            "align_items": null,
            "align_self": null,
            "border": null,
            "bottom": null,
            "display": null,
            "flex": null,
            "flex_flow": null,
            "grid_area": null,
            "grid_auto_columns": null,
            "grid_auto_flow": null,
            "grid_auto_rows": null,
            "grid_column": null,
            "grid_gap": null,
            "grid_row": null,
            "grid_template_areas": null,
            "grid_template_columns": null,
            "grid_template_rows": null,
            "height": null,
            "justify_content": null,
            "justify_items": null,
            "left": null,
            "margin": null,
            "max_height": null,
            "max_width": null,
            "min_height": null,
            "min_width": null,
            "object_fit": null,
            "object_position": null,
            "order": null,
            "overflow": null,
            "overflow_x": null,
            "overflow_y": null,
            "padding": null,
            "right": null,
            "top": null,
            "visibility": null,
            "width": null
          }
        },
        "8642913f462f41efba101b4291250db9": {
          "model_module": "@jupyter-widgets/base",
          "model_module_version": "1.2.0",
          "model_name": "LayoutModel",
          "state": {
            "_model_module": "@jupyter-widgets/base",
            "_model_module_version": "1.2.0",
            "_model_name": "LayoutModel",
            "_view_count": null,
            "_view_module": "@jupyter-widgets/base",
            "_view_module_version": "1.2.0",
            "_view_name": "LayoutView",
            "align_content": null,
            "align_items": null,
            "align_self": null,
            "border": null,
            "bottom": null,
            "display": null,
            "flex": null,
            "flex_flow": null,
            "grid_area": null,
            "grid_auto_columns": null,
            "grid_auto_flow": null,
            "grid_auto_rows": null,
            "grid_column": null,
            "grid_gap": null,
            "grid_row": null,
            "grid_template_areas": null,
            "grid_template_columns": null,
            "grid_template_rows": null,
            "height": null,
            "justify_content": null,
            "justify_items": null,
            "left": null,
            "margin": null,
            "max_height": null,
            "max_width": null,
            "min_height": null,
            "min_width": null,
            "object_fit": null,
            "object_position": null,
            "order": null,
            "overflow": null,
            "overflow_x": null,
            "overflow_y": null,
            "padding": null,
            "right": null,
            "top": null,
            "visibility": null,
            "width": null
          }
        },
        "8c876785cb9f4103855bd67e478143c5": {
          "model_module": "@jupyter-widgets/controls",
          "model_module_version": "1.5.0",
          "model_name": "HTMLModel",
          "state": {
            "_dom_classes": [],
            "_model_module": "@jupyter-widgets/controls",
            "_model_module_version": "1.5.0",
            "_model_name": "HTMLModel",
            "_view_count": null,
            "_view_module": "@jupyter-widgets/controls",
            "_view_module_version": "1.5.0",
            "_view_name": "HTMLView",
            "description": "",
            "description_tooltip": null,
            "layout": "IPY_MODEL_e932a2bf27454286a767481043cc3e0d",
            "placeholder": "​",
            "style": "IPY_MODEL_097d6d76f1b84b48bcbfe1f72ada88db",
            "value": " 892/892 [00:46&lt;00:00, 24.80 examples/s]"
          }
        },
        "98aefe9c22304c8a80faea10abdd4124": {
          "model_module": "@jupyter-widgets/base",
          "model_module_version": "1.2.0",
          "model_name": "LayoutModel",
          "state": {
            "_model_module": "@jupyter-widgets/base",
            "_model_module_version": "1.2.0",
            "_model_name": "LayoutModel",
            "_view_count": null,
            "_view_module": "@jupyter-widgets/base",
            "_view_module_version": "1.2.0",
            "_view_name": "LayoutView",
            "align_content": null,
            "align_items": null,
            "align_self": null,
            "border": null,
            "bottom": null,
            "display": null,
            "flex": null,
            "flex_flow": null,
            "grid_area": null,
            "grid_auto_columns": null,
            "grid_auto_flow": null,
            "grid_auto_rows": null,
            "grid_column": null,
            "grid_gap": null,
            "grid_row": null,
            "grid_template_areas": null,
            "grid_template_columns": null,
            "grid_template_rows": null,
            "height": null,
            "justify_content": null,
            "justify_items": null,
            "left": null,
            "margin": null,
            "max_height": null,
            "max_width": null,
            "min_height": null,
            "min_width": null,
            "object_fit": null,
            "object_position": null,
            "order": null,
            "overflow": null,
            "overflow_x": null,
            "overflow_y": null,
            "padding": null,
            "right": null,
            "top": null,
            "visibility": null,
            "width": null
          }
        },
        "9ad1735c60bd49e1b6529fe4ff0707e1": {
          "model_module": "@jupyter-widgets/controls",
          "model_module_version": "1.5.0",
          "model_name": "ProgressStyleModel",
          "state": {
            "_model_module": "@jupyter-widgets/controls",
            "_model_module_version": "1.5.0",
            "_model_name": "ProgressStyleModel",
            "_view_count": null,
            "_view_module": "@jupyter-widgets/base",
            "_view_module_version": "1.2.0",
            "_view_name": "StyleView",
            "bar_color": null,
            "description_width": ""
          }
        },
        "a7473c777c744d8ab741a00b5fb2a963": {
          "model_module": "@jupyter-widgets/controls",
          "model_module_version": "1.5.0",
          "model_name": "HBoxModel",
          "state": {
            "_dom_classes": [],
            "_model_module": "@jupyter-widgets/controls",
            "_model_module_version": "1.5.0",
            "_model_name": "HBoxModel",
            "_view_count": null,
            "_view_module": "@jupyter-widgets/controls",
            "_view_module_version": "1.5.0",
            "_view_name": "HBoxView",
            "box_style": "",
            "children": [
              "IPY_MODEL_e9ab40c95f2749bb9bba6d0325a5b1e9",
              "IPY_MODEL_aeb681989a8a4d22887c08d77c76c138",
              "IPY_MODEL_84628188faf64bc380d1cb4f6d902ec8"
            ],
            "layout": "IPY_MODEL_6c8fb589972d40b286f8f128d470015f"
          }
        },
        "ad62775456724cfc824fd3b145b5fae8": {
          "model_module": "@jupyter-widgets/controls",
          "model_module_version": "1.5.0",
          "model_name": "HTMLModel",
          "state": {
            "_dom_classes": [],
            "_model_module": "@jupyter-widgets/controls",
            "_model_module_version": "1.5.0",
            "_model_name": "HTMLModel",
            "_view_count": null,
            "_view_module": "@jupyter-widgets/controls",
            "_view_module_version": "1.5.0",
            "_view_name": "HTMLView",
            "description": "",
            "description_tooltip": null,
            "layout": "IPY_MODEL_bdcc6b7ec3564185aef04dc257c01f7b",
            "placeholder": "​",
            "style": "IPY_MODEL_1f9724fccdde48f490b1deb76e9c7825",
            "value": " 892/892 [00:00&lt;00:00, 6440.19 examples/s]"
          }
        },
        "aeb681989a8a4d22887c08d77c76c138": {
          "model_module": "@jupyter-widgets/controls",
          "model_module_version": "1.5.0",
          "model_name": "FloatProgressModel",
          "state": {
            "_dom_classes": [],
            "_model_module": "@jupyter-widgets/controls",
            "_model_module_version": "1.5.0",
            "_model_name": "FloatProgressModel",
            "_view_count": null,
            "_view_module": "@jupyter-widgets/controls",
            "_view_module_version": "1.5.0",
            "_view_name": "ProgressView",
            "bar_style": "success",
            "description": "",
            "description_tooltip": null,
            "layout": "IPY_MODEL_0c82af71272640dfaae865789b62e47b",
            "max": 892,
            "min": 0,
            "orientation": "horizontal",
            "style": "IPY_MODEL_eb9acd27c5ae468c9765b35f9c741ead",
            "value": 892
          }
        },
        "bab08be480174a42a97461631a7d4bda": {
          "model_module": "@jupyter-widgets/controls",
          "model_module_version": "1.5.0",
          "model_name": "HTMLModel",
          "state": {
            "_dom_classes": [],
            "_model_module": "@jupyter-widgets/controls",
            "_model_module_version": "1.5.0",
            "_model_name": "HTMLModel",
            "_view_count": null,
            "_view_module": "@jupyter-widgets/controls",
            "_view_module_version": "1.5.0",
            "_view_name": "HTMLView",
            "description": "",
            "description_tooltip": null,
            "layout": "IPY_MODEL_7466545c4b8b476d8066d819005996c8",
            "placeholder": "​",
            "style": "IPY_MODEL_e129dd3ccbd847f2b430ce51b9359bd7",
            "value": "Map: 100%"
          }
        },
        "bdcc6b7ec3564185aef04dc257c01f7b": {
          "model_module": "@jupyter-widgets/base",
          "model_module_version": "1.2.0",
          "model_name": "LayoutModel",
          "state": {
            "_model_module": "@jupyter-widgets/base",
            "_model_module_version": "1.2.0",
            "_model_name": "LayoutModel",
            "_view_count": null,
            "_view_module": "@jupyter-widgets/base",
            "_view_module_version": "1.2.0",
            "_view_name": "LayoutView",
            "align_content": null,
            "align_items": null,
            "align_self": null,
            "border": null,
            "bottom": null,
            "display": null,
            "flex": null,
            "flex_flow": null,
            "grid_area": null,
            "grid_auto_columns": null,
            "grid_auto_flow": null,
            "grid_auto_rows": null,
            "grid_column": null,
            "grid_gap": null,
            "grid_row": null,
            "grid_template_areas": null,
            "grid_template_columns": null,
            "grid_template_rows": null,
            "height": null,
            "justify_content": null,
            "justify_items": null,
            "left": null,
            "margin": null,
            "max_height": null,
            "max_width": null,
            "min_height": null,
            "min_width": null,
            "object_fit": null,
            "object_position": null,
            "order": null,
            "overflow": null,
            "overflow_x": null,
            "overflow_y": null,
            "padding": null,
            "right": null,
            "top": null,
            "visibility": null,
            "width": null
          }
        },
        "cb38319dbd9c4da5b870a41108c8dc5f": {
          "model_module": "@jupyter-widgets/controls",
          "model_module_version": "1.5.0",
          "model_name": "ProgressStyleModel",
          "state": {
            "_model_module": "@jupyter-widgets/controls",
            "_model_module_version": "1.5.0",
            "_model_name": "ProgressStyleModel",
            "_view_count": null,
            "_view_module": "@jupyter-widgets/base",
            "_view_module_version": "1.2.0",
            "_view_name": "StyleView",
            "bar_color": null,
            "description_width": ""
          }
        },
        "d695ac3569bc4be2b82876463922faf9": {
          "model_module": "@jupyter-widgets/base",
          "model_module_version": "1.2.0",
          "model_name": "LayoutModel",
          "state": {
            "_model_module": "@jupyter-widgets/base",
            "_model_module_version": "1.2.0",
            "_model_name": "LayoutModel",
            "_view_count": null,
            "_view_module": "@jupyter-widgets/base",
            "_view_module_version": "1.2.0",
            "_view_name": "LayoutView",
            "align_content": null,
            "align_items": null,
            "align_self": null,
            "border": null,
            "bottom": null,
            "display": null,
            "flex": null,
            "flex_flow": null,
            "grid_area": null,
            "grid_auto_columns": null,
            "grid_auto_flow": null,
            "grid_auto_rows": null,
            "grid_column": null,
            "grid_gap": null,
            "grid_row": null,
            "grid_template_areas": null,
            "grid_template_columns": null,
            "grid_template_rows": null,
            "height": null,
            "justify_content": null,
            "justify_items": null,
            "left": null,
            "margin": null,
            "max_height": null,
            "max_width": null,
            "min_height": null,
            "min_width": null,
            "object_fit": null,
            "object_position": null,
            "order": null,
            "overflow": null,
            "overflow_x": null,
            "overflow_y": null,
            "padding": null,
            "right": null,
            "top": null,
            "visibility": null,
            "width": null
          }
        },
        "da0ceac8b0644e10a574848f6c22fec7": {
          "model_module": "@jupyter-widgets/base",
          "model_module_version": "1.2.0",
          "model_name": "LayoutModel",
          "state": {
            "_model_module": "@jupyter-widgets/base",
            "_model_module_version": "1.2.0",
            "_model_name": "LayoutModel",
            "_view_count": null,
            "_view_module": "@jupyter-widgets/base",
            "_view_module_version": "1.2.0",
            "_view_name": "LayoutView",
            "align_content": null,
            "align_items": null,
            "align_self": null,
            "border": null,
            "bottom": null,
            "display": null,
            "flex": null,
            "flex_flow": null,
            "grid_area": null,
            "grid_auto_columns": null,
            "grid_auto_flow": null,
            "grid_auto_rows": null,
            "grid_column": null,
            "grid_gap": null,
            "grid_row": null,
            "grid_template_areas": null,
            "grid_template_columns": null,
            "grid_template_rows": null,
            "height": null,
            "justify_content": null,
            "justify_items": null,
            "left": null,
            "margin": null,
            "max_height": null,
            "max_width": null,
            "min_height": null,
            "min_width": null,
            "object_fit": null,
            "object_position": null,
            "order": null,
            "overflow": null,
            "overflow_x": null,
            "overflow_y": null,
            "padding": null,
            "right": null,
            "top": null,
            "visibility": null,
            "width": null
          }
        },
        "e129dd3ccbd847f2b430ce51b9359bd7": {
          "model_module": "@jupyter-widgets/controls",
          "model_module_version": "1.5.0",
          "model_name": "DescriptionStyleModel",
          "state": {
            "_model_module": "@jupyter-widgets/controls",
            "_model_module_version": "1.5.0",
            "_model_name": "DescriptionStyleModel",
            "_view_count": null,
            "_view_module": "@jupyter-widgets/base",
            "_view_module_version": "1.2.0",
            "_view_name": "StyleView",
            "description_width": ""
          }
        },
        "e67c9b95b0254093a80dbbff9bd9f084": {
          "model_module": "@jupyter-widgets/controls",
          "model_module_version": "1.5.0",
          "model_name": "DescriptionStyleModel",
          "state": {
            "_model_module": "@jupyter-widgets/controls",
            "_model_module_version": "1.5.0",
            "_model_name": "DescriptionStyleModel",
            "_view_count": null,
            "_view_module": "@jupyter-widgets/base",
            "_view_module_version": "1.2.0",
            "_view_name": "StyleView",
            "description_width": ""
          }
        },
        "e8b6b597627b48cdb8eb0ac606ed5ef2": {
          "model_module": "@jupyter-widgets/controls",
          "model_module_version": "1.5.0",
          "model_name": "DescriptionStyleModel",
          "state": {
            "_model_module": "@jupyter-widgets/controls",
            "_model_module_version": "1.5.0",
            "_model_name": "DescriptionStyleModel",
            "_view_count": null,
            "_view_module": "@jupyter-widgets/base",
            "_view_module_version": "1.2.0",
            "_view_name": "StyleView",
            "description_width": ""
          }
        },
        "e932a2bf27454286a767481043cc3e0d": {
          "model_module": "@jupyter-widgets/base",
          "model_module_version": "1.2.0",
          "model_name": "LayoutModel",
          "state": {
            "_model_module": "@jupyter-widgets/base",
            "_model_module_version": "1.2.0",
            "_model_name": "LayoutModel",
            "_view_count": null,
            "_view_module": "@jupyter-widgets/base",
            "_view_module_version": "1.2.0",
            "_view_name": "LayoutView",
            "align_content": null,
            "align_items": null,
            "align_self": null,
            "border": null,
            "bottom": null,
            "display": null,
            "flex": null,
            "flex_flow": null,
            "grid_area": null,
            "grid_auto_columns": null,
            "grid_auto_flow": null,
            "grid_auto_rows": null,
            "grid_column": null,
            "grid_gap": null,
            "grid_row": null,
            "grid_template_areas": null,
            "grid_template_columns": null,
            "grid_template_rows": null,
            "height": null,
            "justify_content": null,
            "justify_items": null,
            "left": null,
            "margin": null,
            "max_height": null,
            "max_width": null,
            "min_height": null,
            "min_width": null,
            "object_fit": null,
            "object_position": null,
            "order": null,
            "overflow": null,
            "overflow_x": null,
            "overflow_y": null,
            "padding": null,
            "right": null,
            "top": null,
            "visibility": null,
            "width": null
          }
        },
        "e9ab40c95f2749bb9bba6d0325a5b1e9": {
          "model_module": "@jupyter-widgets/controls",
          "model_module_version": "1.5.0",
          "model_name": "HTMLModel",
          "state": {
            "_dom_classes": [],
            "_model_module": "@jupyter-widgets/controls",
            "_model_module_version": "1.5.0",
            "_model_name": "HTMLModel",
            "_view_count": null,
            "_view_module": "@jupyter-widgets/controls",
            "_view_module_version": "1.5.0",
            "_view_name": "HTMLView",
            "description": "",
            "description_tooltip": null,
            "layout": "IPY_MODEL_7751197ba9594f309280503717ecb748",
            "placeholder": "​",
            "style": "IPY_MODEL_1d4d577bbe1c45f3b95c4f5ea6b1df91",
            "value": "Map: 100%"
          }
        },
        "eb9acd27c5ae468c9765b35f9c741ead": {
          "model_module": "@jupyter-widgets/controls",
          "model_module_version": "1.5.0",
          "model_name": "ProgressStyleModel",
          "state": {
            "_model_module": "@jupyter-widgets/controls",
            "_model_module_version": "1.5.0",
            "_model_name": "ProgressStyleModel",
            "_view_count": null,
            "_view_module": "@jupyter-widgets/base",
            "_view_module_version": "1.2.0",
            "_view_name": "StyleView",
            "bar_color": null,
            "description_width": ""
          }
        },
        "ef655dc72fd34895902d6c443272e3a1": {
          "model_module": "@jupyter-widgets/controls",
          "model_module_version": "1.5.0",
          "model_name": "FloatProgressModel",
          "state": {
            "_dom_classes": [],
            "_model_module": "@jupyter-widgets/controls",
            "_model_module_version": "1.5.0",
            "_model_name": "FloatProgressModel",
            "_view_count": null,
            "_view_module": "@jupyter-widgets/controls",
            "_view_module_version": "1.5.0",
            "_view_name": "ProgressView",
            "bar_style": "success",
            "description": "",
            "description_tooltip": null,
            "layout": "IPY_MODEL_98aefe9c22304c8a80faea10abdd4124",
            "max": 892,
            "min": 0,
            "orientation": "horizontal",
            "style": "IPY_MODEL_9ad1735c60bd49e1b6529fe4ff0707e1",
            "value": 892
          }
        },
        "faebb780f2b545aa876e250110126d2f": {
          "model_module": "@jupyter-widgets/controls",
          "model_module_version": "1.5.0",
          "model_name": "DescriptionStyleModel",
          "state": {
            "_model_module": "@jupyter-widgets/controls",
            "_model_module_version": "1.5.0",
            "_model_name": "DescriptionStyleModel",
            "_view_count": null,
            "_view_module": "@jupyter-widgets/base",
            "_view_module_version": "1.2.0",
            "_view_name": "StyleView",
            "description_width": ""
          }
        },
        "fe7ffa2855c243e891b04393ae75dcc7": {
          "model_module": "@jupyter-widgets/controls",
          "model_module_version": "1.5.0",
          "model_name": "FloatProgressModel",
          "state": {
            "_dom_classes": [],
            "_model_module": "@jupyter-widgets/controls",
            "_model_module_version": "1.5.0",
            "_model_name": "FloatProgressModel",
            "_view_count": null,
            "_view_module": "@jupyter-widgets/controls",
            "_view_module_version": "1.5.0",
            "_view_name": "ProgressView",
            "bar_style": "success",
            "description": "",
            "description_tooltip": null,
            "layout": "IPY_MODEL_8642913f462f41efba101b4291250db9",
            "max": 892,
            "min": 0,
            "orientation": "horizontal",
            "style": "IPY_MODEL_1180d0e9511446dbb96561d96c2fab32",
            "value": 892
          }
        }
      }
    }
  },
  "nbformat": 4,
  "nbformat_minor": 0
}
